{
  "nbformat": 4,
  "nbformat_minor": 0,
  "metadata": {
    "colab": {
      "private_outputs": true,
      "provenance": [],
      "authorship_tag": "ABX9TyMsyja31MW6VHd6rTLvU7EI",
      "include_colab_link": true
    },
    "kernelspec": {
      "name": "python3",
      "display_name": "Python 3"
    },
    "language_info": {
      "name": "python"
    }
  },
  "cells": [
    {
      "cell_type": "markdown",
      "metadata": {
        "id": "view-in-github",
        "colab_type": "text"
      },
      "source": [
        "<a href=\"https://colab.research.google.com/github/yms06034/rr_macro_code/blob/master/r%26r_GBSI.ipynb\" target=\"_parent\"><img src=\"https://colab.research.google.com/assets/colab-badge.svg\" alt=\"Open In Colab\"/></a>"
      ]
    },
    {
      "cell_type": "code",
      "source": [
        "import pandas as pd"
      ],
      "metadata": {
        "id": "MpjAhh-Mt0hw"
      },
      "execution_count": null,
      "outputs": []
    },
    {
      "cell_type": "code",
      "execution_count": null,
      "metadata": {
        "id": "yp8YzOVHtZ0X"
      },
      "outputs": [],
      "source": [
        "from google.colab import files\n",
        "\n",
        "uploaded = files.upload()"
      ]
    },
    {
      "cell_type": "code",
      "source": [
        "file_name = list(uploaded.keys())\n",
        "print(file_name)"
      ],
      "metadata": {
        "id": "FCVBtPAwtp-I"
      },
      "execution_count": null,
      "outputs": []
    },
    {
      "cell_type": "code",
      "source": [
        "df = pd.read_excel(file_name[0], dtype=str)\n",
        "df.reset_index(drop=True, inplace=True)"
      ],
      "metadata": {
        "id": "k-GaCtqenMT-"
      },
      "execution_count": null,
      "outputs": []
    },
    {
      "cell_type": "code",
      "source": [
        "df = df[2:]"
      ],
      "metadata": {
        "id": "fXiZkbXfnVwG"
      },
      "execution_count": null,
      "outputs": []
    },
    {
      "cell_type": "code",
      "source": [
        "df = pd.read_excel('GBSI_connect.xlsx', dtype=str)\n",
        "df = df[2:]\n",
        "\n",
        "df.reset_index(drop=True, inplace=True)"
      ],
      "metadata": {
        "id": "DbVcPMWJvMeJ"
      },
      "execution_count": null,
      "outputs": []
    },
    {
      "cell_type": "code",
      "source": [
        "if len(file_name) > 0:\n",
        "    df_2 = pd.read_excel('GBSI_조사.xlsx', dtype=str)\n",
        "    df_2.reset_index(drop=True, inplace=True)"
      ],
      "metadata": {
        "id": "D1q--s5UtwmP"
      },
      "execution_count": null,
      "outputs": []
    },
    {
      "cell_type": "code",
      "source": [
        "df_columns = []\n",
        "for i in range(0, 49):\n",
        "    df_columns.append(f\"col_{i}\")"
      ],
      "metadata": {
        "id": "J_MWXU57uE6h"
      },
      "execution_count": null,
      "outputs": []
    },
    {
      "cell_type": "code",
      "source": [
        "df.columns = df_columns\n",
        "df = df.dropna(subset=['col_1'])"
      ],
      "metadata": {
        "id": "o19Ozav3ulvw"
      },
      "execution_count": null,
      "outputs": []
    },
    {
      "cell_type": "code",
      "source": [
        "df.reset_index(drop=True, inplace=True)"
      ],
      "metadata": {
        "id": "7h8KmvO2nb_k"
      },
      "execution_count": null,
      "outputs": []
    },
    {
      "cell_type": "code",
      "source": [
        "df.duplicated(['col_1']).sum()"
      ],
      "metadata": {
        "id": "zMd3yVSlnj40"
      },
      "execution_count": null,
      "outputs": []
    },
    {
      "cell_type": "code",
      "source": [
        "df.info()\n",
        "df_2.info()"
      ],
      "metadata": {
        "id": "huBSU-5kuokJ"
      },
      "execution_count": null,
      "outputs": []
    },
    {
      "cell_type": "code",
      "source": [
        "df['col_1']"
      ],
      "metadata": {
        "id": "ylz_hHorvcG4"
      },
      "execution_count": null,
      "outputs": []
    },
    {
      "cell_type": "code",
      "source": [
        "df_2[' ']"
      ],
      "metadata": {
        "id": "JO2_D3nPx1cf"
      },
      "execution_count": null,
      "outputs": []
    },
    {
      "cell_type": "code",
      "source": [
        "df_2 = df_2[~df_2[' '].isin(df['col_1'])]"
      ],
      "metadata": {
        "id": "045YuRiKyNBZ"
      },
      "execution_count": null,
      "outputs": []
    },
    {
      "cell_type": "code",
      "source": [
        "df_2 = df_2[df_2[' '].isin(df['col_1'])]"
      ],
      "metadata": {
        "id": "8bA3Gk27eRPk"
      },
      "execution_count": null,
      "outputs": []
    },
    {
      "cell_type": "code",
      "source": [
        "df_2['2분기 대비 3분기 경기상황'].unique()"
      ],
      "metadata": {
        "id": "qkLh9zmUyrzq"
      },
      "execution_count": null,
      "outputs": []
    },
    {
      "cell_type": "code",
      "source": [
        "df_2 = df_2.dropna(subset=['2분기 대비 3분기 경기상황'])"
      ],
      "metadata": {
        "id": "IFXQakI5yeVB"
      },
      "execution_count": null,
      "outputs": []
    },
    {
      "cell_type": "code",
      "source": [
        "df_2.rename(columns = {'2분기_경기상황' : '분기_경기상황'}, inplace = True)"
      ],
      "metadata": {
        "id": "YT6tnEbV0doT"
      },
      "execution_count": null,
      "outputs": []
    },
    {
      "cell_type": "code",
      "source": [
        "df_2.columns"
      ],
      "metadata": {
        "id": "lm0ZQCXiAfOl"
      },
      "execution_count": null,
      "outputs": []
    },
    {
      "cell_type": "code",
      "source": [
        "drop_index = df_2.query(\"분기_경기상황 == '0'\").index\n",
        "drop_index"
      ],
      "metadata": {
        "id": "RnMTqfkMAINc"
      },
      "execution_count": null,
      "outputs": []
    },
    {
      "cell_type": "code",
      "source": [
        "df_2.drop(drop_index, inplace=True)"
      ],
      "metadata": {
        "id": "qnv5MoRNBE2M"
      },
      "execution_count": null,
      "outputs": []
    },
    {
      "cell_type": "code",
      "source": [
        "df_2.reset_index(drop=True, inplace=True)"
      ],
      "metadata": {
        "id": "s5mHxsyABHrk"
      },
      "execution_count": null,
      "outputs": []
    },
    {
      "cell_type": "code",
      "source": [
        "df_2.to_excel('GBSI_조사_전처리_0925.xlsx', index=False)"
      ],
      "metadata": {
        "id": "L_FemQAZBajG"
      },
      "execution_count": null,
      "outputs": []
    },
    {
      "cell_type": "code",
      "source": [
        "list1_ = [1, 2, 4]\n",
        "\n"
      ],
      "metadata": {
        "id": "H-thealqiW4K"
      },
      "execution_count": null,
      "outputs": []
    }
  ]
}