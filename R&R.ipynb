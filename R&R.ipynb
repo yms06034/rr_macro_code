{
 "cells": [
  {
   "cell_type": "code",
   "execution_count": 291,
   "id": "5dbccb72",
   "metadata": {},
   "outputs": [],
   "source": [
    "from selenium import webdriver\n",
    "from selenium.webdriver.common.by import By\n",
    "from selenium.webdriver.common.keys import Keys\n",
    "from selenium.webdriver.chrome.options import Options\n",
    "from selenium.webdriver.chrome.service import Service\n",
    "from selenium.common.exceptions import NoSuchElementException\n",
    "from selenium.webdriver.support.ui import WebDriverWait\n",
    "from selenium.webdriver.support import expected_conditions as EC\n",
    "\n",
    "from webdriver_manager.chrome import ChromeDriverManager\n",
    "\n",
    "from bs4 import BeautifulSoup as BS\n",
    "from datetime import datetime\n",
    "from random import *\n",
    "\n",
    "import pandas as pd\n",
    "import time\n",
    "import pyperclip\n",
    "import pyautogui\n",
    "import sys, os\n",
    "import random\n",
    "\n",
    "\n",
    "def find_css(css_selector, browser):\n",
    "    return browser.find_element(By.CSS_SELECTOR, css_selector)\n",
    "def finds_css(css_selector, browser):\n",
    "    return browser.find_elements(By.CSS_SELECTOR, css_selector)\n",
    "\n",
    "def find_xpath(xpath, browser):\n",
    "    return browser.find_element(By.XPATH, xpath)\n",
    "def finds_xpath(xpath, browser):\n",
    "    return browser.find_elements(By.XPATH, xpath)\n",
    "\n",
    "def find_id(e_id, browser):\n",
    "    return browser.find_element(By.ID, e_id)\n",
    "\n",
    "def find_className(cn, browser):\n",
    "    return browser.find_element(By.CLASS_NAME, cn)\n",
    "def finds_className(cn , browser):\n",
    "    return browser.find_element(By.CLASS_NAME, cn)\n",
    "\n",
    "def find_linktext(lt, browser):\n",
    "    return browser.find_element(By.LINK_TEXT, lt)\n",
    "\n",
    "def resource_path(relative_path):\n",
    "    \"\"\" Get absolute path to resource, works for dev and for PyInstaller \"\"\"\n",
    "    base_path = getattr(sys, '_MEIPASS', os.path.dirname(os.path.abspath(__file__)))\n",
    "    return os.path.join(base_path, relative_path)"
   ]
  },
  {
   "cell_type": "code",
   "execution_count": 73,
   "id": "68eb3acf",
   "metadata": {},
   "outputs": [],
   "source": [
    "def open_browser():    \n",
    "    options = webdriver.ChromeOptions()\n",
    "    options.add_argument('--no-sandbox')\n",
    "    options.add_argument('no-sandox')\n",
    "    options.add_argument('--disable-dev-shm-usage')\n",
    "    options.add_argument(\"--window-size=1080,800\")\n",
    "    options.add_argument('incognito')\n",
    "\n",
    "    chrome_service = Service('chromedriver')\n",
    "    chrome_service = Service(executable_path=\"chromedriver.exe\")\n",
    "    browser = webdriver.Chrome(service=chrome_service, options=options)\n",
    "\n",
    "    browser.get(\"http://listcontact.randr.co.kr/ContactList/CLLogin.aspx\")\n",
    "    time.sleep(1.5)\n",
    "    \n",
    "    return browser"
   ]
  },
  {
   "cell_type": "code",
   "execution_count": 74,
   "id": "6cd713c8",
   "metadata": {},
   "outputs": [],
   "source": [
    "def login_session(ID, PW, browser):\n",
    "    input_id = find_id('chkid', browser)\n",
    "    input_pw = find_id('chkpw', browser)\n",
    "    \n",
    "    time.sleep(2)\n",
    "\n",
    "    pyperclip.copy(ID)\n",
    "    input_id.send_keys(Keys.CONTROL, \"v\")\n",
    "    \n",
    "    time.sleep(1.5)\n",
    "\n",
    "    pyperclip.copy(PW)\n",
    "    input_pw.send_keys(Keys.CONTROL, \"v\") \n",
    "    \n",
    "    time.sleep(2)\n",
    "    \n",
    "    login_btn = find_id('btn_login', browser)\n",
    "    login_btn.click()"
   ]
  },
  {
   "cell_type": "code",
   "execution_count": 75,
   "id": "c12a21b2",
   "metadata": {},
   "outputs": [],
   "source": [
    "browser = open_browser()"
   ]
  },
  {
   "cell_type": "code",
   "execution_count": 76,
   "id": "36be366b",
   "metadata": {},
   "outputs": [],
   "source": [
    "login_session('미래메이커스', 'alfoapdlzjtm1234!', browser)"
   ]
  },
  {
   "cell_type": "code",
   "execution_count": 77,
   "id": "a1ff4bca",
   "metadata": {},
   "outputs": [],
   "source": [
    "find_xpath('/html/body/form/div[3]/div[1]/table[2]/tbody/tr[3]', browser).click()"
   ]
  },
  {
   "cell_type": "code",
   "execution_count": 189,
   "id": "13a771b3",
   "metadata": {},
   "outputs": [],
   "source": [
    "browser.switch_to.frame(\"xtop\")"
   ]
  },
  {
   "cell_type": "code",
   "execution_count": 80,
   "id": "f1d8c4fd",
   "metadata": {},
   "outputs": [],
   "source": [
    "find_id('btn_resultmodify', browser).click()"
   ]
  },
  {
   "cell_type": "code",
   "execution_count": 81,
   "id": "fdcb17d4",
   "metadata": {},
   "outputs": [],
   "source": [
    "browser.switch_to.default_content()"
   ]
  },
  {
   "cell_type": "code",
   "execution_count": 82,
   "id": "17d20419",
   "metadata": {},
   "outputs": [],
   "source": [
    "browser.switch_to.frame('xmain')"
   ]
  },
  {
   "cell_type": "code",
   "execution_count": 281,
   "id": "fee8a9f0",
   "metadata": {},
   "outputs": [],
   "source": [
    "companyCode = '18090'\n",
    "facilityName = '사천시 다함께돌봄센터 2호점'\n",
    "rprsnName = '김혜영'\n",
    "regionName = '서울특별시 광진구 천호대로 716 별관 1호'\n",
    "subRegionName = '우리동네키움센터 영등포10호점'\n",
    "rprsnPhnnm = '02-455-7765'\n",
    "establishmentYear = '2021'\n",
    "establishmentMonth = '06'\n",
    "operatingEntity = '지방자치단체'\n",
    "etcName = '중구시설관리공단'\n",
    "facilityStatus = '위탁'\n",
    "\n",
    "totalBudget = '1억 5000만원'\n",
    "percentageOfUse = '20%'"
   ]
  },
  {
   "cell_type": "code",
   "execution_count": 257,
   "id": "8e1822c7",
   "metadata": {},
   "outputs": [
    {
     "name": "stdout",
     "output_type": "stream",
     "text": [
      "750\n"
     ]
    }
   ],
   "source": [
    "import re\n",
    "\n",
    "# 주어진 텍스트\n",
    "# text = \"1억 5000만원\"\n",
    "text = \"750만원\"  # 다른 예시\n",
    "pattern = r'\\d+'\n",
    "\n",
    "matches = re.findall(pattern, text)\n",
    "number = int(''.join(matches))\n",
    "print(number)\n"
   ]
  },
  {
   "cell_type": "code",
   "execution_count": 117,
   "id": "19411008",
   "metadata": {},
   "outputs": [],
   "source": [
    "time.sleep(80)\n",
    "input_field = find_id('ntx_searchtext', browser)\n",
    "pyperclip.copy(companyCode)\n",
    "input_field.send_keys(Keys.CONTROL, \"v\")\n",
    "input_field.send_keys('\\n')"
   ]
  },
  {
   "cell_type": "code",
   "execution_count": 124,
   "id": "834c460b",
   "metadata": {},
   "outputs": [],
   "source": [
    "first_element = find_xpath('/html/body/form/div[3]/div[3]/table[2]/tbody/tr[2]', browser)\n",
    "first_element.click()"
   ]
  },
  {
   "cell_type": "code",
   "execution_count": 125,
   "id": "f4764814",
   "metadata": {},
   "outputs": [],
   "source": [
    "participation = find_id('btn_survey', browser)\n",
    "participation.click()"
   ]
  },
  {
   "cell_type": "code",
   "execution_count": 134,
   "id": "c931ba51",
   "metadata": {},
   "outputs": [
    {
     "data": {
      "text/plain": [
       "['FF4B114036FEA21DAA38BFA97986F57C',\n",
       " '75D2EE8BAF14E227739BEB3F832EFB30',\n",
       " '14CF676AC97FB340DA14C1F6724FF8B0']"
      ]
     },
     "execution_count": 134,
     "metadata": {},
     "output_type": "execute_result"
    }
   ],
   "source": [
    "window_handles = browser.window_handles\n",
    "window_handles"
   ]
  },
  {
   "cell_type": "code",
   "execution_count": 175,
   "id": "cb555df4",
   "metadata": {},
   "outputs": [],
   "source": [
    "browser.switch_to.window(browser.window_handles[1])"
   ]
  },
  {
   "cell_type": "code",
   "execution_count": 139,
   "id": "8dad8e43",
   "metadata": {},
   "outputs": [],
   "source": [
    "start_participation = find_xpath('/html/body/form/div/center/table[2]/tbody/tr[3]/td/a', browser)\n",
    "start_participation.click()"
   ]
  },
  {
   "cell_type": "code",
   "execution_count": 176,
   "id": "ff356f72",
   "metadata": {},
   "outputs": [],
   "source": [
    "last_years_yes = find_xpath('/html/body/form/center/div/table/tbody/tr/td/table/tbody/tr/td[1]/label', browser)\n",
    "last_years_yes.click()\n",
    "\n",
    "time.sleep(1)\n",
    "\n",
    "find_xpath('/html/body/form/center/div/table/tbody/tr/td/a', browser).click()"
   ]
  },
  {
   "cell_type": "code",
   "execution_count": 180,
   "id": "dda85d14",
   "metadata": {},
   "outputs": [],
   "source": [
    "# 시설명 입력 facilityName\n",
    "facility_name_input=find_xpath('/html/body/form/center/div/table/tbody/tr/td/table/tbody/tr[2]/td[2]/input', browser)\n",
    "pyperclip.copy(facilityName)\n",
    "facility_name.send_keys(Keys.CONTROL, 'v')"
   ]
  },
  {
   "cell_type": "code",
   "execution_count": 186,
   "id": "ea5050e1",
   "metadata": {},
   "outputs": [],
   "source": [
    "# 대표자명 입력 rprsnName\n",
    "rpsen_name_input = find_xpath('/html/body/form/center/div/table/tbody/tr/td/table/tbody/tr[3]/td[2]/input', browser)\n",
    "pyperclip.copy(rprsnName)\n",
    "rpsen_name_input.send_keys(Keys.CONTROL, 'v')"
   ]
  },
  {
   "cell_type": "code",
   "execution_count": 217,
   "id": "83f2892e",
   "metadata": {},
   "outputs": [],
   "source": [
    "# 주소 입력\n",
    "address_input = find_xpath('/html/body/form/center/div/table/tbody/tr/td/table/tbody/tr[4]/td[2]/table/tbody/tr[1]/td/input[2]', browser)\n",
    "address_input.click()"
   ]
  },
  {
   "cell_type": "code",
   "execution_count": 218,
   "id": "de91d75d",
   "metadata": {},
   "outputs": [],
   "source": [
    "iframe_1 = find_xpath('/html/body/form/center/div/table/tbody/tr/td/table/tbody/tr[4]/td[2]/div/div/iframe', browser)\n",
    "browser.switch_to.frame(iframe_1)\n",
    "time.sleep(.5)\n",
    "browser.switch_to.frame('__daum__viewerFrame_1')"
   ]
  },
  {
   "cell_type": "code",
   "execution_count": 219,
   "id": "8ff27326",
   "metadata": {},
   "outputs": [],
   "source": [
    "region_name_input = find_id('region_name', browser)\n",
    "pyperclip.copy(regionName)\n",
    "region_name_input.send_keys(Keys.CONTROL, 'v')\n",
    "\n",
    "time.sleep(.5)\n",
    "\n",
    "region_name_input.send_keys('\\n')\n",
    "\n",
    "time.sleep(1.5)\n",
    "\n",
    "find_xpath('/html/body/div[1]/div/div[2]/ul/li/dl/dd[1]/span/button', browser).click()"
   ]
  },
  {
   "cell_type": "code",
   "execution_count": 223,
   "id": "e8798033",
   "metadata": {},
   "outputs": [],
   "source": [
    "browser.switch_to.default_content()"
   ]
  },
  {
   "cell_type": "code",
   "execution_count": 225,
   "id": "5206e1f6",
   "metadata": {},
   "outputs": [],
   "source": [
    "# 상세 주소 입력 subRegionName\n",
    "sub_region_input = find_id('sample6_address2', browser)\n",
    "pyperclip.copy(subRegionName)\n",
    "sub_region_input.send_keys(Keys.CONTROL, 'v')"
   ]
  },
  {
   "cell_type": "code",
   "execution_count": 228,
   "id": "6bdbb016",
   "metadata": {},
   "outputs": [],
   "source": [
    "# 대표전화번호 rprsnPhnnm\n",
    "rprsn_phnnm_input = find_xpath('/html/body/form/center/div/table/tbody/tr/td/table/tbody/tr[5]/td[2]/input', browser)\n",
    "pyperclip.copy(rprsnPhnnm)\n",
    "rprsn_phnnm_input.send_keys(Keys.CONTROL, 'v')"
   ]
  },
  {
   "cell_type": "code",
   "execution_count": 231,
   "id": "c939749d",
   "metadata": {},
   "outputs": [],
   "source": [
    "# 설립연월 establishmentYear establishmentMonth\n",
    "establishmentYear_input = find_xpath('/html/body/form/center/div/table/tbody/tr/td/table/tbody/tr[6]/td[2]/input[1]', browser)\n",
    "pyperclip.copy(establishmentYear)\n",
    "establishmentYear_input.send_keys(Keys.CONTROL, 'v')\n",
    "\n",
    "establishmentMonth_input = find_xpath('/html/body/form/center/div/table/tbody/tr/td/table/tbody/tr[6]/td[2]/input[2]', browser)\n",
    "pyperclip.copy(establishmentMonth)\n",
    "establishmentMonth_input.send_keys(Keys.CONTROL, 'v')"
   ]
  },
  {
   "cell_type": "code",
   "execution_count": 236,
   "id": "84a5bb93",
   "metadata": {},
   "outputs": [],
   "source": [
    "# 지역 구분\n",
    "if '서울' in regionName:\n",
    "    urban_area = find_xpath('/html/body/form/center/div/table/tbody/tr/td/table/tbody/tr[7]/td[2]/table/tbody/tr/td[1]/label', browser)\n",
    "    urban_area.click()\n",
    "else:\n",
    "    rural_area = find_xpath('/html/body/form/center/div/table/tbody/tr/td/table/tbody/tr[7]/td[2]/table/tbody/tr/td[2]/label', browser)\n",
    "    rural_area.click()"
   ]
  },
  {
   "cell_type": "code",
   "execution_count": 248,
   "id": "d5482084",
   "metadata": {},
   "outputs": [],
   "source": [
    "# 운영주체 형태 operatingEntity\n",
    "if '국가' in operatingEntity:\n",
    "    find_xpath('/html/body/form/center/div/table/tbody/tr/td/table/tbody/tr[8]/td[2]/table/tbody/tr[1]/td[1]/label', browser).click()\n",
    "if '지방자치단체' in operatingEntity:\n",
    "    find_xpath('/html/body/form/center/div/table/tbody/tr/td/table/tbody/tr[8]/td[2]/table/tbody/tr[1]/td[2]/label', browser).click()\n",
    "if '공기업' in operatingEntity:\n",
    "    find_xpath('/html/body/form/center/div/table/tbody/tr/td/table/tbody/tr[8]/td[2]/table/tbody/tr[1]/td[3]/label', browser).click()\n",
    "if '재단법인(민간기업' in operatingEntity:\n",
    "    find_xpath('/html/body/form/center/div/table/tbody/tr/td/table/tbody/tr[8]/td[2]/table/tbody/tr[1]/td[4]/label', browser).click()\n",
    "if '재단법인(공공-광역지자체)' in operatingEntity:\n",
    "    find_xpath('/html/body/form/center/div/table/tbody/tr/td/table/tbody/tr[8]/td[2]/table/tbody/tr[1]/td[5]/label', browser).click()\n",
    "if '재단법인(공공-기초기자체)' in operatingEntity:\n",
    "    find_xpath('/html/body/form/center/div/table/tbody/tr/td/table/tbody/tr[8]/td[2]/table/tbody/tr[1]/td[6]/label', browser).click()\n",
    "if '사단법인' in operatingEntity:\n",
    "    find_xpath('/html/body/form/center/div/table/tbody/tr/td/table/tbody/tr[8]/td[2]/table/tbody/tr[1]/td[7]/label', browser).click()\n",
    "if '상법인' in operatingEntity:\n",
    "    find_xpath('/html/body/form/center/div/table/tbody/tr/td/table/tbody/tr[8]/td[2]/table/tbody/tr[1]/td[8]/label', browser).click()\n",
    "if '교육기간(국공립)' in operatingEntity:\n",
    "    find_xpath('/html/body/form/center/div/table/tbody/tr/td/table/tbody/tr[8]/td[2]/table/tbody/tr[1]/td[9]/label', browser).click()\n",
    "if '교육기간(사립)' in operatingEntity:\n",
    "    find_xpath('/html/body/form/center/div/table/tbody/tr/td/table/tbody/tr[8]/td[2]/table/tbody/tr[1]/td[10]/label', browser).click()\n",
    "if '개인(사업자, 임의단체)' in operatingEntity:\n",
    "    find_xpath('/html/body/form/center/div/table/tbody/tr/td/table/tbody/tr[8]/td[2]/table/tbody/tr[1]/td[11]/label', browser).click()\n",
    "if '기타' in operatingEntity:\n",
    "    find_xpath('/html/body/form/center/div/table/tbody/tr/td/table/tbody/tr[8]/td[2]/table/tbody/tr[1]/td[12]/label', browser).click()\n",
    "    time.sleep(.5)\n",
    "    etc_input = find_xpath('/html/body/form/center/div/table/tbody/tr/td/table/tbody/tr[8]/td[2]/table/tbody/tr[5]/td/input[2]', browser)\n",
    "    pyperclip.copy(etcName)\n",
    "    etc_input.send_keys(Keys.CONTROL, 'v')"
   ]
  },
  {
   "cell_type": "code",
   "execution_count": 253,
   "id": "85cd53f7",
   "metadata": {},
   "outputs": [],
   "source": [
    "# 시설의 직영·위탁 유무\n",
    "if '직영' in facilityStatus:\n",
    "    find_xpath('/html/body/form/center/div/table/tbody/tr/td/table/tbody/tr[9]/td[2]/table/tbody/tr/td[1]/label', browser).click()\n",
    "if '위탁' in facilityStatus:\n",
    "    find_xpath('/html/body/form/center/div/table/tbody/tr/td/table/tbody/tr[9]/td[2]/table/tbody/tr/td[2]/label', browser).click()    \n",
    "\n",
    "time.sleep(1)\n",
    "# 다음 페이지\n",
    "find_xpath('/html/body/form/center/div/table/tbody/tr/td/a[2]', browser).click()"
   ]
  },
  {
   "cell_type": "code",
   "execution_count": 259,
   "id": "17ebf6cf",
   "metadata": {},
   "outputs": [],
   "source": [
    "# 사업비 (총예산)\n",
    "attern = r'\\d+'\n",
    "matches = re.findall(pattern, totalBudget)\n",
    "t_totalBudget = int(''.join(matches))\n",
    "\n",
    "totalBudget_input = find_xpath('/html/body/form/center/div/table/tbody/tr/td/table/tbody/tr[1]/td[2]/table/tbody/tr[4]/td[2]/input', browser)\n",
    "pyperclip.copy(t_totalBudget)\n",
    "totalBudget_input.send_keys(Keys.CONTROL, 'v')"
   ]
  },
  {
   "cell_type": "code",
   "execution_count": 283,
   "id": "04f8898b",
   "metadata": {},
   "outputs": [],
   "source": [
    "# 사업비 (사회문화예술교육 외 예산) excludedMoney, percentageOfUse\n",
    "matches = re.findall(pattern, percentageOfUse)\n",
    "excludedMoney = 100 - int(matches[0])\n",
    "\n",
    "excludedMoney_input = find_xpath('/html/body/form/center/div/table/tbody/tr/td/table/tbody/tr[1]/td[2]/table/tbody/tr[3]/td[3]/input', browser)\n",
    "pyperclip.copy(excludedMoney)\n",
    "excludedMoney_input.send_keys(Keys.CONTROL, 'v')"
   ]
  },
  {
   "cell_type": "code",
   "execution_count": 288,
   "id": "8373ca2d",
   "metadata": {},
   "outputs": [],
   "source": [
    "# 사업비 (사회문화예술교육 예산) matches[0]\n",
    "budget = round(int(matches[0]) / 2)\n",
    "\n",
    "first_budget_input = find_xpath('/html/body/form/center/div/table/tbody/tr/td/table/tbody/tr[1]/td[2]/table/tbody/tr[1]/td[4]/input', browser)\n",
    "pyperclip.copy(budget)\n",
    "first_budget_input.send_keys(Keys.CONTROL, 'v')\n",
    "\n",
    "second_budget_input = find_xpath('/html/body/form/center/div/table/tbody/tr/td/table/tbody/tr[1]/td[2]/table/tbody/tr[2]/td[3]/input', browser)\n",
    "second_budget_input.send_keys(Keys.CONTROL, 'v')"
   ]
  },
  {
   "cell_type": "code",
   "execution_count": 302,
   "id": "d964dccb",
   "metadata": {},
   "outputs": [],
   "source": [
    "# 전체 프로그램 수 totalNumber\n",
    "random_number = random.randint(8, 15)\n",
    "\n",
    "total_number_input = find_xpath('/html/body/form/center/div/table/tbody/tr/td/table/tbody/tr[2]/td[3]/table[2]/tbody/tr[2]/td/input', browser)\n",
    "pyperclip.copy(random_number)\n",
    "total_number_input.send_keys(Keys.CONTROL, 'v')"
   ]
  },
  {
   "cell_type": "code",
   "execution_count": 350,
   "id": "1e0fe332",
   "metadata": {},
   "outputs": [],
   "source": [
    "# 주요 운영 프로그램\n",
    "key_operatin_lable_2 = find_xpath('/html/body/form/center/div/table/tbody/tr/td/table/tbody/tr[2]/td[3]/table[2]/tbody/tr[3]/td[3]/table/tbody/tr[2]/td/label', browser)\n",
    "key_operatin_lable_4 = find_xpath('/html/body/form/center/div/table/tbody/tr/td/table/tbody/tr[2]/td[3]/table[2]/tbody/tr[3]/td[3]/table/tbody/tr[4]/td/label', browser)\n",
    "key_operatin_list = [key_operatin_lable_2, key_operatin_lable_4]\n",
    "\n",
    "\n",
    "key_operatin_list[0].click()"
   ]
  },
  {
   "cell_type": "code",
   "execution_count": 345,
   "id": "00e515c1",
   "metadata": {},
   "outputs": [],
   "source": [
    "program_weight_number = random.randrange(20, 41, 5) # 20% ~ 40% 까지\n",
    "\n",
    "program_weight_input = find_xpath('/html/body/form/center/div/table/tbody/tr/td/table/tbody/tr[2]/td[3]/table[2]/tbody/tr[4]/td[3]/input', browser)\n",
    "pyperclip.copy(program_weight_number)\n",
    "program_weight_input.send_keys(Keys.CONTROL, 'v')"
   ]
  },
  {
   "cell_type": "code",
   "execution_count": null,
   "id": "18f85a60",
   "metadata": {},
   "outputs": [],
   "source": []
  },
  {
   "cell_type": "code",
   "execution_count": null,
   "id": "75aab415",
   "metadata": {},
   "outputs": [],
   "source": []
  }
 ],
 "metadata": {
  "kernelspec": {
   "display_name": "Python 3 (ipykernel)",
   "language": "python",
   "name": "python3"
  },
  "language_info": {
   "codemirror_mode": {
    "name": "ipython",
    "version": 3
   },
   "file_extension": ".py",
   "mimetype": "text/x-python",
   "name": "python",
   "nbconvert_exporter": "python",
   "pygments_lexer": "ipython3",
   "version": "3.10.9"
  }
 },
 "nbformat": 4,
 "nbformat_minor": 5
}
