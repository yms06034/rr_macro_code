{
 "cells": [
  {
   "cell_type": "code",
   "execution_count": 9,
   "id": "1ec8dcb4",
   "metadata": {},
   "outputs": [],
   "source": [
    "from selenium import webdriver\n",
    "from selenium.webdriver.common.by import By\n",
    "from selenium.webdriver.common.keys import Keys\n",
    "from selenium.webdriver.chrome.options import Options\n",
    "from selenium.webdriver.chrome.service import Service\n",
    "from selenium.common.exceptions import NoSuchElementException\n",
    "from selenium.webdriver.support.ui import WebDriverWait\n",
    "from selenium.webdriver.support import expected_conditions as EC\n",
    "from selenium.common.exceptions import NoAlertPresentException\n",
    "\n",
    "from webdriver_manager.chrome import ChromeDriverManager\n",
    "\n",
    "from bs4 import BeautifulSoup as BS\n",
    "from datetime import datetime\n",
    "from random import *\n",
    "\n",
    "import pandas as pd\n",
    "import time\n",
    "import pyperclip\n",
    "import sys, os\n",
    "import random\n",
    "import re\n",
    "import math\n",
    "\n",
    "\n",
    "def find_css(css_selector, browser):\n",
    "    return browser.find_element(By.CSS_SELECTOR, css_selector)\n",
    "def finds_css(css_selector, browser):\n",
    "    return browser.find_elements(By.CSS_SELECTOR, css_selector)\n",
    "\n",
    "def find_xpath(xpath, browser):\n",
    "    return browser.find_element(By.XPATH, xpath)\n",
    "def finds_xpath(xpath, browser):\n",
    "    return browser.find_elements(By.XPATH, xpath)\n",
    "\n",
    "def find_id(e_id, browser):\n",
    "    return browser.find_element(By.ID, e_id)\n",
    "\n",
    "def find_className(cn, browser):\n",
    "    return browser.find_element(By.CLASS_NAME, cn)\n",
    "def finds_className(cn , browser):\n",
    "    return browser.find_element(By.CLASS_NAME, cn)\n",
    "\n",
    "def find_linktext(lt, browser):\n",
    "    return browser.find_element(By.LINK_TEXT, lt)\n",
    "\n",
    "def find_name(name, browser):\n",
    "    return browser.find_element(By.NAME, name)\n",
    "def finds_name(name, browser):\n",
    "    return browser.find_elements(By.NAME, name)\n",
    "\n",
    "def resource_path(relative_path):\n",
    "    \"\"\" Get absolute path to resource, works for dev and for PyInstaller \"\"\"\n",
    "    base_path = getattr(sys, '_MEIPASS', os.path.dirname(os.path.abspath(__file__)))\n",
    "    return os.path.join(base_path, relative_path)\n",
    "\n",
    "def calculate_percentage(value, percentage):\n",
    "    result = (value * percentage) / 100\n",
    "    return result\n",
    "\n",
    "def extracting_numbers_from_text(text_price):\n",
    "    pattern = r'\\d+'\n",
    "    matches = re.findall(pattern, text_price)\n",
    "    result = int(''.join(matches))\n",
    "    return int(result)\n",
    "\n",
    "pattern = r'\\d+'"
   ]
  },
  {
   "cell_type": "code",
   "execution_count": 10,
   "id": "bbc78210",
   "metadata": {},
   "outputs": [],
   "source": [
    "def open_browser():    \n",
    "    options = webdriver.ChromeOptions()\n",
    "    options.add_argument(\"--window-size=1080,800\")\n",
    "\n",
    "    chrome_service = Service('chromedriver')\n",
    "    chrome_service = Service(executable_path=\"chromedriver.exe\")\n",
    "    browser = webdriver.Chrome(service=chrome_service, options=options)\n",
    "\n",
    "    browser.get('https://www.juso.go.kr/openIndexPage.do')\n",
    "    time.sleep(1.5)\n",
    "    \n",
    "    return browser"
   ]
  },
  {
   "cell_type": "code",
   "execution_count": 11,
   "id": "77b43e72",
   "metadata": {},
   "outputs": [],
   "source": [
    "def open_browser_kakaomap():    \n",
    "    options = webdriver.ChromeOptions()\n",
    "    options.add_argument(\"--window-size=1080,800\")\n",
    "\n",
    "    chrome_service = Service('chromedriver')\n",
    "    chrome_service = Service(executable_path=\"chromedriver.exe\")\n",
    "    browser = webdriver.Chrome(service=chrome_service, options=options)\n",
    "\n",
    "    browser.get('https://map.kakao.com/')\n",
    "    time.sleep(1.5)\n",
    "    \n",
    "    return browser"
   ]
  },
  {
   "cell_type": "code",
   "execution_count": 12,
   "id": "9d2a28de",
   "metadata": {},
   "outputs": [],
   "source": [
    "def process_address(address):\n",
    "    browser = open_browser()\n",
    "    new_address = []\n",
    "    for i in address:\n",
    "        try:\n",
    "            find_name('searchKeyword', browser).clear()\n",
    "            find_name('searchKeyword', browser).send_keys(i)\n",
    "            find_name('searchKeyword', browser).send_keys('\\n')\n",
    "            \n",
    "            text = find_className('subejct_2', browser).text\n",
    "            if '지번' in text:\n",
    "                text = text.split('지번')[1]\n",
    "                \n",
    "            if '관련' in text:\n",
    "                text = text.split('관련')[0]\n",
    "            \n",
    "            text = text.strip()\n",
    "            new_address.append(text)\n",
    "        except NoSuchElementException:\n",
    "            new_address.append('-')\n",
    "    \n",
    "    return new_address"
   ]
  },
  {
   "cell_type": "code",
   "execution_count": 16,
   "id": "e99cdd98",
   "metadata": {},
   "outputs": [
    {
     "data": {
      "text/plain": [
       "41"
      ]
     },
     "execution_count": 16,
     "metadata": {},
     "output_type": "execute_result"
    }
   ],
   "source": [
    "df = pd.read_excel(\"C:\\\\Users\\\\user\\\\Desktop\\\\사회문화예술교육_1011_문학관.xlsx\", dtype=str)\n",
    "address = df['주소'].tolist()\n",
    "len(address)"
   ]
  },
  {
   "cell_type": "code",
   "execution_count": 14,
   "id": "ca7b0295",
   "metadata": {},
   "outputs": [],
   "source": [
    "browser = open_browser_kakaomap()"
   ]
  },
  {
   "cell_type": "code",
   "execution_count": 20,
   "id": "e477b7fb",
   "metadata": {},
   "outputs": [],
   "source": [
    "find_name('q', browser).clear()\n",
    "find_name('q', browser).send_keys(address[13])\n",
    "find_name('q', browser).send_keys('\\n')"
   ]
  },
  {
   "cell_type": "code",
   "execution_count": 23,
   "id": "4cd9714c",
   "metadata": {},
   "outputs": [],
   "source": [
    "browser = open_browser_kakaomap()\n",
    "count = 1\n",
    "links = []\n",
    "\n",
    "for i in address:\n",
    "    find_name('q', browser).clear()\n",
    "    find_name('q', browser).send_keys(i)\n",
    "    find_name('q', browser).send_keys('\\n')\n",
    "    time.sleep(.5)\n",
    "    try:\n",
    "        find_className('link_addr', browser)\n",
    "        links.append(find_className('link_addr', browser).text)\n",
    "        count += 1\n",
    "    except Exception as e:\n",
    "        links.append('-')\n",
    "    \n",
    "    time.sleep(.5)\n",
    "    \n",
    "browser.close()"
   ]
  },
  {
   "cell_type": "code",
   "execution_count": 24,
   "id": "bc9e58a9",
   "metadata": {},
   "outputs": [
    {
     "name": "stdout",
     "output_type": "stream",
     "text": [
      "0\n"
     ]
    }
   ],
   "source": [
    "ccount = 0\n",
    "for i in links:\n",
    "    if i == '-':\n",
    "        ccount += 1\n",
    "print(ccount)"
   ]
  },
  {
   "cell_type": "code",
   "execution_count": 37,
   "id": "d016dab5",
   "metadata": {},
   "outputs": [],
   "source": [
    "df = pd.DataFrame({'address':links})\n",
    "df.to_excel('주소확인_카카오맵.xlsx', index=False)"
   ]
  }
 ],
 "metadata": {
  "kernelspec": {
   "display_name": "Python 3 (ipykernel)",
   "language": "python",
   "name": "python3"
  },
  "language_info": {
   "codemirror_mode": {
    "name": "ipython",
    "version": 3
   },
   "file_extension": ".py",
   "mimetype": "text/x-python",
   "name": "python",
   "nbconvert_exporter": "python",
   "pygments_lexer": "ipython3",
   "version": "3.10.9"
  }
 },
 "nbformat": 4,
 "nbformat_minor": 5
}
