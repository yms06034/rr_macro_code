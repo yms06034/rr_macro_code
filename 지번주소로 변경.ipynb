{
 "cells": [
  {
   "cell_type": "code",
   "execution_count": 26,
   "id": "1ec8dcb4",
   "metadata": {},
   "outputs": [],
   "source": [
    "from selenium import webdriver\n",
    "from selenium.webdriver.common.by import By\n",
    "from selenium.webdriver.common.keys import Keys\n",
    "from selenium.webdriver.chrome.options import Options\n",
    "from selenium.webdriver.chrome.service import Service\n",
    "from selenium.common.exceptions import NoSuchElementException\n",
    "from selenium.webdriver.support.ui import WebDriverWait\n",
    "from selenium.webdriver.support import expected_conditions as EC\n",
    "from selenium.common.exceptions import NoAlertPresentException\n",
    "\n",
    "from webdriver_manager.chrome import ChromeDriverManager\n",
    "\n",
    "from bs4 import BeautifulSoup as BS\n",
    "from datetime import datetime\n",
    "from random import *\n",
    "\n",
    "import pandas as pd\n",
    "import time\n",
    "import pyperclip\n",
    "import sys, os\n",
    "import random\n",
    "import re\n",
    "import math\n",
    "\n",
    "\n",
    "def find_css(css_selector, browser):\n",
    "    return browser.find_element(By.CSS_SELECTOR, css_selector)\n",
    "def finds_css(css_selector, browser):\n",
    "    return browser.find_elements(By.CSS_SELECTOR, css_selector)\n",
    "\n",
    "def find_xpath(xpath, browser):\n",
    "    return browser.find_element(By.XPATH, xpath)\n",
    "def finds_xpath(xpath, browser):\n",
    "    return browser.find_elements(By.XPATH, xpath)\n",
    "\n",
    "def find_id(e_id, browser):\n",
    "    return browser.find_element(By.ID, e_id)\n",
    "\n",
    "def find_className(cn, browser):\n",
    "    return browser.find_element(By.CLASS_NAME, cn)\n",
    "def finds_className(cn , browser):\n",
    "    return browser.find_element(By.CLASS_NAME, cn)\n",
    "\n",
    "def find_linktext(lt, browser):\n",
    "    return browser.find_element(By.LINK_TEXT, lt)\n",
    "\n",
    "def find_name(name, browser):\n",
    "    return browser.find_element(By.NAME, name)\n",
    "def finds_name(name, browser):\n",
    "    return browser.find_elements(By.NAME, name)\n",
    "\n",
    "def resource_path(relative_path):\n",
    "    \"\"\" Get absolute path to resource, works for dev and for PyInstaller \"\"\"\n",
    "    base_path = getattr(sys, '_MEIPASS', os.path.dirname(os.path.abspath(__file__)))\n",
    "    return os.path.join(base_path, relative_path)\n",
    "\n",
    "def calculate_percentage(value, percentage):\n",
    "    result = (value * percentage) / 100\n",
    "    return result\n",
    "\n",
    "def extracting_numbers_from_text(text_price):\n",
    "    pattern = r'\\d+'\n",
    "    matches = re.findall(pattern, text_price)\n",
    "    result = int(''.join(matches))\n",
    "    return int(result)\n",
    "\n",
    "pattern = r'\\d+'"
   ]
  },
  {
   "cell_type": "code",
   "execution_count": 66,
   "id": "bbc78210",
   "metadata": {},
   "outputs": [],
   "source": [
    "def open_browser():    \n",
    "    options = webdriver.ChromeOptions()\n",
    "    options.add_argument(\"--window-size=1080,800\")\n",
    "\n",
    "    chrome_service = Service('chromedriver')\n",
    "    chrome_service = Service(executable_path=\"chromedriver.exe\")\n",
    "    browser = webdriver.Chrome(service=chrome_service, options=options)\n",
    "\n",
    "    browser.get('https://www.juso.go.kr/openIndexPage.do')\n",
    "    time.sleep(1.5)\n",
    "    \n",
    "    return browser"
   ]
  },
  {
   "cell_type": "code",
   "execution_count": 69,
   "id": "77b43e72",
   "metadata": {},
   "outputs": [],
   "source": [
    "def open_browser_kakaomap():    \n",
    "    options = webdriver.ChromeOptions()\n",
    "    options.add_argument(\"--window-size=1080,800\")\n",
    "\n",
    "    chrome_service = Service('chromedriver')\n",
    "    chrome_service = Service(executable_path=\"chromedriver.exe\")\n",
    "    browser = webdriver.Chrome(service=chrome_service, options=options)\n",
    "\n",
    "    browser.get('https://map.kakao.com/')\n",
    "    time.sleep(1.5)\n",
    "    \n",
    "    return browser"
   ]
  },
  {
   "cell_type": "code",
   "execution_count": 4,
   "id": "829d2c8a",
   "metadata": {},
   "outputs": [],
   "source": [
    "df = pd.read_excel(\"C:\\\\Users\\\\user\\\\Desktop\\\\1006_청소년.xlsx\", dtype=str)"
   ]
  },
  {
   "cell_type": "code",
   "execution_count": 8,
   "id": "364d94af",
   "metadata": {},
   "outputs": [],
   "source": [
    "address = df['주소'].tolist()"
   ]
  },
  {
   "cell_type": "code",
   "execution_count": 19,
   "id": "c97b179e",
   "metadata": {},
   "outputs": [],
   "source": [
    "find_name('searchKeyword', browser).clear()\n",
    "find_name('searchKeyword', browser).send_keys(address[1])\n",
    "find_name('searchKeyword', browser).send_keys('\\n')"
   ]
  },
  {
   "cell_type": "code",
   "execution_count": 56,
   "id": "9d2a28de",
   "metadata": {},
   "outputs": [],
   "source": [
    "def process_address(address):\n",
    "    browser = open_browser()\n",
    "    new_address = []\n",
    "    for i in address:\n",
    "        try:\n",
    "            find_name('searchKeyword', browser).clear()\n",
    "            find_name('searchKeyword', browser).send_keys(i)\n",
    "            find_name('searchKeyword', browser).send_keys('\\n')\n",
    "            \n",
    "            text = find_className('subejct_2', browser).text\n",
    "            if '지번' in text:\n",
    "                text = text.split('지번')[1]\n",
    "                \n",
    "            if '관련' in text:\n",
    "                text = text.split('관련')[0]\n",
    "            \n",
    "            text = text.strip()\n",
    "            new_address.append(text)\n",
    "        except NoSuchElementException:\n",
    "            new_address.append('-')\n",
    "    \n",
    "    return new_address\n",
    "\n",
    "# 함수 호출\n",
    "result = process_address(address)\n"
   ]
  },
  {
   "cell_type": "code",
   "execution_count": 58,
   "id": "136d1aab",
   "metadata": {},
   "outputs": [],
   "source": [
    "df['new_address'] = result"
   ]
  },
  {
   "cell_type": "code",
   "execution_count": 63,
   "id": "e99cdd98",
   "metadata": {},
   "outputs": [],
   "source": [
    "df.to_excel(\"C:\\\\Users\\\\user\\\\Desktop\\\\1006_청소년_updated.xlsx\", index=False)"
   ]
  },
  {
   "cell_type": "code",
   "execution_count": 70,
   "id": "02affe7d",
   "metadata": {},
   "outputs": [],
   "source": []
  },
  {
   "cell_type": "code",
   "execution_count": 72,
   "id": "50a81f16",
   "metadata": {},
   "outputs": [],
   "source": [
    "find_name('q', browser).clear()\n",
    "find_name('q', browser).send_keys(address[1])\n",
    "find_name('q', browser).send_keys('\\n')"
   ]
  },
  {
   "cell_type": "code",
   "execution_count": 80,
   "id": "4cd9714c",
   "metadata": {},
   "outputs": [],
   "source": [
    "browser = open_browser_kakaomap()\n",
    "for i in address:\n",
    "    find_name('q', browser).clear()\n",
    "    find_name('q', browser).send_keys(i)\n",
    "    find_name('q', browser).send_keys('\\n')\n",
    "    try:\n",
    "        find_className('addrtitle', browser)\n",
    "    except Exception as e:\n",
    "        print(e)\n",
    "        pass\n",
    "    \n",
    "    time.sleep(1)"
   ]
  }
 ],
 "metadata": {
  "kernelspec": {
   "display_name": "Python 3 (ipykernel)",
   "language": "python",
   "name": "python3"
  },
  "language_info": {
   "codemirror_mode": {
    "name": "ipython",
    "version": 3
   },
   "file_extension": ".py",
   "mimetype": "text/x-python",
   "name": "python",
   "nbconvert_exporter": "python",
   "pygments_lexer": "ipython3",
   "version": "3.11.5"
  }
 },
 "nbformat": 4,
 "nbformat_minor": 5
}
