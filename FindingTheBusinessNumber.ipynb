{
 "cells": [
  {
   "cell_type": "code",
   "execution_count": 58,
   "id": "4def8d75",
   "metadata": {},
   "outputs": [],
   "source": [
    "from selenium import webdriver\n",
    "from selenium.webdriver.common.by import By\n",
    "from selenium.webdriver.common.keys import Keys\n",
    "from selenium.webdriver.chrome.options import Options\n",
    "from selenium.webdriver.chrome.service import Service\n",
    "from selenium.common.exceptions import NoSuchElementException\n",
    "from selenium.webdriver.support.ui import WebDriverWait\n",
    "from selenium.webdriver.support import expected_conditions as EC\n",
    "\n",
    "from webdriver_manager.chrome import ChromeDriverManager\n",
    "\n",
    "from bs4 import BeautifulSoup as BS\n",
    "from datetime import datetime\n",
    "from random import *\n",
    "\n",
    "import pandas as pd\n",
    "import time\n",
    "import pyperclip\n",
    "import pyautogui\n",
    "import sys, os\n",
    "import random\n",
    "import re\n",
    "import math\n",
    "\n",
    "\n",
    "def find_css(css_selector, browser):\n",
    "    return browser.find_element(By.CSS_SELECTOR, css_selector)\n",
    "def finds_css(css_selector, browser):\n",
    "    return browser.find_elements(By.CSS_SELECTOR, css_selector)\n",
    "\n",
    "def find_xpath(xpath, browser):\n",
    "    return browser.find_element(By.XPATH, xpath)\n",
    "def finds_xpath(xpath, browser):\n",
    "    return browser.find_elements(By.XPATH, xpath)\n",
    "\n",
    "def find_id(e_id, browser):\n",
    "    return browser.find_element(By.ID, e_id)\n",
    "\n",
    "def find_className(cn, browser):\n",
    "    return browser.find_element(By.CLASS_NAME, cn)\n",
    "def finds_className(cn , browser):\n",
    "    return browser.find_element(By.CLASS_NAME, cn)\n",
    "\n",
    "def find_linktext(lt, browser):\n",
    "    return browser.find_element(By.LINK_TEXT, lt)\n",
    "\n",
    "def find_name(name, browser):\n",
    "    return browser.find_element(By.NAME, name)\n",
    "def finds_name(name, browser):\n",
    "    return browser.find_elements(By.NAME, name)\n",
    "\n",
    "def resource_path(relative_path):\n",
    "    \"\"\" Get absolute path to resource, works for dev and for PyInstaller \"\"\"\n",
    "    base_path = getattr(sys, '_MEIPASS', os.path.dirname(os.path.abspath(__file__)))\n",
    "    return os.path.join(base_path, relative_path)\n",
    "\n",
    "def calculate_percentage(value, percentage):\n",
    "    result = (value * percentage) / 100\n",
    "    return result\n",
    "\n",
    "def extracting_numbers_from_text(text_price):\n",
    "    matches = re.findall(pattern, text_price)\n",
    "    result = int(''.join(matches))\n",
    "    return int(result)"
   ]
  },
  {
   "cell_type": "code",
   "execution_count": 59,
   "id": "3a0adead",
   "metadata": {},
   "outputs": [],
   "source": [
    "def open_browser():    \n",
    "    options = webdriver.ChromeOptions()\n",
    "    options.add_argument('--no-sandbox')\n",
    "    options.add_argument('no-sandox')\n",
    "    options.add_argument('--disable-dev-shm-usage')\n",
    "    options.add_argument(\"--window-size=1080,800\")\n",
    "    options.add_argument('incognito')\n",
    "\n",
    "    chrome_service = Service('chromedriver')\n",
    "    chrome_service = Service(executable_path=\"chromedriver.exe\")\n",
    "    browser = webdriver.Chrome(service=chrome_service, options=options)\n",
    "\n",
    "    browser.get(\"https://bizno.net/\")\n",
    "    time.sleep(1.5)\n",
    "    \n",
    "    return browser"
   ]
  },
  {
   "cell_type": "code",
   "execution_count": 45,
   "id": "233d7839",
   "metadata": {},
   "outputs": [],
   "source": [
    "df = pd.read_excel(\"C:\\\\Users\\\\user\\\\Desktop\\\\company_name_sheet.xlsx\", dtype=str, header=None)"
   ]
  },
  {
   "cell_type": "code",
   "execution_count": 46,
   "id": "f0dbda58",
   "metadata": {},
   "outputs": [],
   "source": [
    "df.drop([0], axis=1,inplace=True)\n",
    "df.drop(index=0, axis=0, inplace=True)\n",
    "df.columns = df.iloc[0]\n",
    "df.drop(index=1, axis=0, inplace=True)"
   ]
  },
  {
   "cell_type": "code",
   "execution_count": 47,
   "id": "caa17e01",
   "metadata": {},
   "outputs": [
    {
     "name": "stdout",
     "output_type": "stream",
     "text": [
      "(34956, 174)\n"
     ]
    },
    {
     "data": {
      "text/html": [
       "<div>\n",
       "<style scoped>\n",
       "    .dataframe tbody tr th:only-of-type {\n",
       "        vertical-align: middle;\n",
       "    }\n",
       "\n",
       "    .dataframe tbody tr th {\n",
       "        vertical-align: top;\n",
       "    }\n",
       "\n",
       "    .dataframe thead th {\n",
       "        text-align: right;\n",
       "    }\n",
       "</style>\n",
       "<table border=\"1\" class=\"dataframe\">\n",
       "  <thead>\n",
       "    <tr style=\"text-align: right;\">\n",
       "      <th>1</th>\n",
       "      <th>MSIT_ID</th>\n",
       "      <th>ORGFM_ESTM_DIV_CD</th>\n",
       "      <th>BASE_YEAR</th>\n",
       "      <th>ESTM_NM</th>\n",
       "      <th>사업자등록번호</th>\n",
       "      <th>법인등록번호</th>\n",
       "      <th>특이사항</th>\n",
       "      <th>ESTM_RPRS_NM</th>\n",
       "      <th>ESTM_RPRS_SEX</th>\n",
       "      <th>FND_YEAR</th>\n",
       "      <th>...</th>\n",
       "      <th>ICT_code33</th>\n",
       "      <th>ICT_code34</th>\n",
       "      <th>ICT_code35</th>\n",
       "      <th>ICT_code36</th>\n",
       "      <th>comu_id</th>\n",
       "      <th>comu_regis_date</th>\n",
       "      <th>comu_status</th>\n",
       "      <th>comu_sales_way</th>\n",
       "      <th>comu_item</th>\n",
       "      <th>comu_domain</th>\n",
       "    </tr>\n",
       "  </thead>\n",
       "  <tbody>\n",
       "    <tr>\n",
       "      <th>2</th>\n",
       "      <td>16E001553</td>\n",
       "      <td>1</td>\n",
       "      <td>2021</td>\n",
       "      <td>(주)한국오픈솔루션</td>\n",
       "      <td>6098604108</td>\n",
       "      <td>1942110196271</td>\n",
       "      <td>NaN</td>\n",
       "      <td>이상부</td>\n",
       "      <td>1</td>\n",
       "      <td>2012</td>\n",
       "      <td>...</td>\n",
       "      <td>NaN</td>\n",
       "      <td>NaN</td>\n",
       "      <td>NaN</td>\n",
       "      <td>NaN</td>\n",
       "      <td>NaN</td>\n",
       "      <td>NaN</td>\n",
       "      <td>NaN</td>\n",
       "      <td>NaN</td>\n",
       "      <td>NaN</td>\n",
       "      <td>NaN</td>\n",
       "    </tr>\n",
       "    <tr>\n",
       "      <th>3</th>\n",
       "      <td>16E013573</td>\n",
       "      <td>1</td>\n",
       "      <td>2021</td>\n",
       "      <td>라온우리기술</td>\n",
       "      <td>1233462037</td>\n",
       "      <td>-</td>\n",
       "      <td>NaN</td>\n",
       "      <td>김정훈</td>\n",
       "      <td>1</td>\n",
       "      <td>2010</td>\n",
       "      <td>...</td>\n",
       "      <td>NaN</td>\n",
       "      <td>NaN</td>\n",
       "      <td>NaN</td>\n",
       "      <td>NaN</td>\n",
       "      <td>NaN</td>\n",
       "      <td>NaN</td>\n",
       "      <td>NaN</td>\n",
       "      <td>NaN</td>\n",
       "      <td>NaN</td>\n",
       "      <td>NaN</td>\n",
       "    </tr>\n",
       "    <tr>\n",
       "      <th>4</th>\n",
       "      <td>16E013586</td>\n",
       "      <td>1</td>\n",
       "      <td>2021</td>\n",
       "      <td>(주)솔루더스</td>\n",
       "      <td>1268629297</td>\n",
       "      <td>1342110109440</td>\n",
       "      <td>NaN</td>\n",
       "      <td>고성훈</td>\n",
       "      <td>1</td>\n",
       "      <td>2010</td>\n",
       "      <td>...</td>\n",
       "      <td>NaN</td>\n",
       "      <td>NaN</td>\n",
       "      <td>NaN</td>\n",
       "      <td>NaN</td>\n",
       "      <td>NaN</td>\n",
       "      <td>NaN</td>\n",
       "      <td>NaN</td>\n",
       "      <td>NaN</td>\n",
       "      <td>NaN</td>\n",
       "      <td>NaN</td>\n",
       "    </tr>\n",
       "    <tr>\n",
       "      <th>5</th>\n",
       "      <td>16E016635</td>\n",
       "      <td>1</td>\n",
       "      <td>2021</td>\n",
       "      <td>(주)에이플러스 과학나라</td>\n",
       "      <td>1268617734</td>\n",
       "      <td>1342110099568</td>\n",
       "      <td>NaN</td>\n",
       "      <td>박성하</td>\n",
       "      <td>1</td>\n",
       "      <td>2009</td>\n",
       "      <td>...</td>\n",
       "      <td>NaN</td>\n",
       "      <td>NaN</td>\n",
       "      <td>NaN</td>\n",
       "      <td>NaN</td>\n",
       "      <td>NaN</td>\n",
       "      <td>NaN</td>\n",
       "      <td>NaN</td>\n",
       "      <td>NaN</td>\n",
       "      <td>NaN</td>\n",
       "      <td>NaN</td>\n",
       "    </tr>\n",
       "    <tr>\n",
       "      <th>6</th>\n",
       "      <td>16E018492</td>\n",
       "      <td>1</td>\n",
       "      <td>2021</td>\n",
       "      <td>주식회사 에코메카</td>\n",
       "      <td>1058801694</td>\n",
       "      <td>1101115392058</td>\n",
       "      <td>NaN</td>\n",
       "      <td>정효순</td>\n",
       "      <td>2</td>\n",
       "      <td>2014</td>\n",
       "      <td>...</td>\n",
       "      <td>NaN</td>\n",
       "      <td>NaN</td>\n",
       "      <td>NaN</td>\n",
       "      <td>NaN</td>\n",
       "      <td>NaN</td>\n",
       "      <td>NaN</td>\n",
       "      <td>NaN</td>\n",
       "      <td>NaN</td>\n",
       "      <td>NaN</td>\n",
       "      <td>NaN</td>\n",
       "    </tr>\n",
       "  </tbody>\n",
       "</table>\n",
       "<p>5 rows × 174 columns</p>\n",
       "</div>"
      ],
      "text/plain": [
       "1    MSIT_ID ORGFM_ESTM_DIV_CD BASE_YEAR        ESTM_NM     사업자등록번호  \\\n",
       "2  16E001553                 1      2021     (주)한국오픈솔루션  6098604108   \n",
       "3  16E013573                 1      2021         라온우리기술  1233462037   \n",
       "4  16E013586                 1      2021        (주)솔루더스  1268629297   \n",
       "5  16E016635                 1      2021  (주)에이플러스 과학나라  1268617734   \n",
       "6  16E018492                 1      2021      주식회사 에코메카  1058801694   \n",
       "\n",
       "1         법인등록번호 특이사항 ESTM_RPRS_NM ESTM_RPRS_SEX FND_YEAR  ... ICT_code33  \\\n",
       "2  1942110196271  NaN          이상부             1     2012  ...        NaN   \n",
       "3              -  NaN          김정훈             1     2010  ...        NaN   \n",
       "4  1342110109440  NaN          고성훈             1     2010  ...        NaN   \n",
       "5  1342110099568  NaN          박성하             1     2009  ...        NaN   \n",
       "6  1101115392058  NaN          정효순             2     2014  ...        NaN   \n",
       "\n",
       "1 ICT_code34 ICT_code35 ICT_code36 comu_id comu_regis_date comu_status  \\\n",
       "2        NaN        NaN        NaN     NaN             NaN         NaN   \n",
       "3        NaN        NaN        NaN     NaN             NaN         NaN   \n",
       "4        NaN        NaN        NaN     NaN             NaN         NaN   \n",
       "5        NaN        NaN        NaN     NaN             NaN         NaN   \n",
       "6        NaN        NaN        NaN     NaN             NaN         NaN   \n",
       "\n",
       "1 comu_sales_way comu_item comu_domain  \n",
       "2            NaN       NaN         NaN  \n",
       "3            NaN       NaN         NaN  \n",
       "4            NaN       NaN         NaN  \n",
       "5            NaN       NaN         NaN  \n",
       "6            NaN       NaN         NaN  \n",
       "\n",
       "[5 rows x 174 columns]"
      ]
     },
     "execution_count": 47,
     "metadata": {},
     "output_type": "execute_result"
    }
   ],
   "source": [
    "print(df.shape)\n",
    "df.head()"
   ]
  },
  {
   "cell_type": "code",
   "execution_count": 48,
   "id": "10bc4f97",
   "metadata": {},
   "outputs": [],
   "source": [
    "columns_to_keep = ['ESTM_NM', 'ESTM_RPRS_NM', 'FND_YEAR', 'AD_CD', 'LOC_ROD', 'LOC_LNM']\n",
    "df = df[columns_to_keep]"
   ]
  },
  {
   "cell_type": "code",
   "execution_count": 136,
   "id": "694f460e",
   "metadata": {},
   "outputs": [
    {
     "data": {
      "text/plain": [
       "Index(['ESTM_NM', 'ESTM_RPRS_NM', 'FND_YEAR', 'AD_CD', 'LOC_ROD', 'LOC_LNM'], dtype='object')"
      ]
     },
     "execution_count": 136,
     "metadata": {},
     "output_type": "execute_result"
    }
   ],
   "source": [
    "df.columns"
   ]
  },
  {
   "cell_type": "code",
   "execution_count": 55,
   "id": "0c0665bf",
   "metadata": {},
   "outputs": [
    {
     "name": "stdout",
     "output_type": "stream",
     "text": [
      "representative_name_len :  34956\n",
      "cleaned_list :  34956\n"
     ]
    }
   ],
   "source": [
    "representative_name = list(df['ESTM_RPRS_NM'])\n",
    "company_name = list(df['ESTM_NM'])\n",
    "cleaned_list = [sublist.strip() for sublist in company_name]\n",
    "\n",
    "print(\"representative_name_len : \", len(representative_name))\n",
    "print(\"cleaned_list : \", len(cleaned_list))"
   ]
  },
  {
   "cell_type": "code",
   "execution_count": 60,
   "id": "1d1ef13f",
   "metadata": {
    "scrolled": true
   },
   "outputs": [
    {
     "name": "stdout",
     "output_type": "stream",
     "text": [
      "(주)한국오픈솔루션  :  이상부\n",
      "대표자명 있음 :  (주)한국오픈솔루션  :  0\n",
      "라온우리기술  :  김정훈\n",
      "대표자명 있음 :  라온우리기술  :  1\n",
      "(주)솔루더스  :  고성훈\n",
      "대표자명 있음 :  (주)솔루더스  :  2\n",
      "(주)에이플러스 과학나라  :  박성하\n"
     ]
    },
    {
     "ename": "NoSuchWindowException",
     "evalue": "Message: no such window: target window already closed\nfrom unknown error: web view not found\n  (Session info: chrome=117.0.5938.132)\nStacktrace:\n\tGetHandleVerifier [0x00007FF6BF8252A2+57122]\n\t(No symbol) [0x00007FF6BF79EA92]\n\t(No symbol) [0x00007FF6BF66E3AB]\n\t(No symbol) [0x00007FF6BF64E1B9]\n\t(No symbol) [0x00007FF6BF6CB417]\n\t(No symbol) [0x00007FF6BF6DE24F]\n\t(No symbol) [0x00007FF6BF6C6DB3]\n\t(No symbol) [0x00007FF6BF69D2B1]\n\t(No symbol) [0x00007FF6BF69E494]\n\tGetHandleVerifier [0x00007FF6BFACEF82+2849794]\n\tGetHandleVerifier [0x00007FF6BFB21D24+3189156]\n\tGetHandleVerifier [0x00007FF6BFB1ACAF+3160367]\n\tGetHandleVerifier [0x00007FF6BF8B6D06+653702]\n\t(No symbol) [0x00007FF6BF7AA208]\n\t(No symbol) [0x00007FF6BF7A62C4]\n\t(No symbol) [0x00007FF6BF7A63F6]\n\t(No symbol) [0x00007FF6BF7967A3]\n\tBaseThreadInitThunk [0x00007FFC349A257D+29]\n\tRtlUserThreadStart [0x00007FFC3608AA68+40]\n",
     "output_type": "error",
     "traceback": [
      "\u001b[1;31m---------------------------------------------------------------------------\u001b[0m",
      "\u001b[1;31mNoSuchWindowException\u001b[0m                     Traceback (most recent call last)",
      "Cell \u001b[1;32mIn[60], line 17\u001b[0m\n\u001b[0;32m     14\u001b[0m search_input\u001b[38;5;241m.\u001b[39msend_keys(\u001b[38;5;124m\"\u001b[39m\u001b[38;5;130;01m\\n\u001b[39;00m\u001b[38;5;124m\"\u001b[39m)\n\u001b[0;32m     15\u001b[0m time\u001b[38;5;241m.\u001b[39msleep(\u001b[38;5;241m1\u001b[39m)\n\u001b[1;32m---> 17\u001b[0m soup \u001b[38;5;241m=\u001b[39m BS(\u001b[43mbrowser\u001b[49m\u001b[38;5;241;43m.\u001b[39;49m\u001b[43mpage_source\u001b[49m, \u001b[38;5;124m\"\u001b[39m\u001b[38;5;124mhtml.parser\u001b[39m\u001b[38;5;124m\"\u001b[39m)\n\u001b[0;32m     18\u001b[0m name_soup \u001b[38;5;241m=\u001b[39m soup\u001b[38;5;241m.\u001b[39mfind_all(class_\u001b[38;5;241m=\u001b[39m\u001b[38;5;124m\"\u001b[39m\u001b[38;5;124mcol-lg-8 post-list\u001b[39m\u001b[38;5;124m\"\u001b[39m)\n\u001b[0;32m     20\u001b[0m desired_name \u001b[38;5;241m=\u001b[39m name\n",
      "File \u001b[1;32m~\\anaconda3\\lib\\site-packages\\selenium\\webdriver\\remote\\webdriver.py:541\u001b[0m, in \u001b[0;36mWebDriver.page_source\u001b[1;34m(self)\u001b[0m\n\u001b[0;32m    532\u001b[0m \u001b[38;5;129m@property\u001b[39m\n\u001b[0;32m    533\u001b[0m \u001b[38;5;28;01mdef\u001b[39;00m \u001b[38;5;21mpage_source\u001b[39m(\u001b[38;5;28mself\u001b[39m) \u001b[38;5;241m-\u001b[39m\u001b[38;5;241m>\u001b[39m \u001b[38;5;28mstr\u001b[39m:\n\u001b[0;32m    534\u001b[0m     \u001b[38;5;124;03m\"\"\"Gets the source of the current page.\u001b[39;00m\n\u001b[0;32m    535\u001b[0m \n\u001b[0;32m    536\u001b[0m \u001b[38;5;124;03m    :Usage:\u001b[39;00m\n\u001b[1;32m   (...)\u001b[0m\n\u001b[0;32m    539\u001b[0m \u001b[38;5;124;03m            driver.page_source\u001b[39;00m\n\u001b[0;32m    540\u001b[0m \u001b[38;5;124;03m    \"\"\"\u001b[39;00m\n\u001b[1;32m--> 541\u001b[0m     \u001b[38;5;28;01mreturn\u001b[39;00m \u001b[38;5;28;43mself\u001b[39;49m\u001b[38;5;241;43m.\u001b[39;49m\u001b[43mexecute\u001b[49m\u001b[43m(\u001b[49m\u001b[43mCommand\u001b[49m\u001b[38;5;241;43m.\u001b[39;49m\u001b[43mGET_PAGE_SOURCE\u001b[49m\u001b[43m)\u001b[49m[\u001b[38;5;124m\"\u001b[39m\u001b[38;5;124mvalue\u001b[39m\u001b[38;5;124m\"\u001b[39m]\n",
      "File \u001b[1;32m~\\anaconda3\\lib\\site-packages\\selenium\\webdriver\\remote\\webdriver.py:440\u001b[0m, in \u001b[0;36mWebDriver.execute\u001b[1;34m(self, driver_command, params)\u001b[0m\n\u001b[0;32m    438\u001b[0m response \u001b[38;5;241m=\u001b[39m \u001b[38;5;28mself\u001b[39m\u001b[38;5;241m.\u001b[39mcommand_executor\u001b[38;5;241m.\u001b[39mexecute(driver_command, params)\n\u001b[0;32m    439\u001b[0m \u001b[38;5;28;01mif\u001b[39;00m response:\n\u001b[1;32m--> 440\u001b[0m     \u001b[38;5;28;43mself\u001b[39;49m\u001b[38;5;241;43m.\u001b[39;49m\u001b[43merror_handler\u001b[49m\u001b[38;5;241;43m.\u001b[39;49m\u001b[43mcheck_response\u001b[49m\u001b[43m(\u001b[49m\u001b[43mresponse\u001b[49m\u001b[43m)\u001b[49m\n\u001b[0;32m    441\u001b[0m     response[\u001b[38;5;124m\"\u001b[39m\u001b[38;5;124mvalue\u001b[39m\u001b[38;5;124m\"\u001b[39m] \u001b[38;5;241m=\u001b[39m \u001b[38;5;28mself\u001b[39m\u001b[38;5;241m.\u001b[39m_unwrap_value(response\u001b[38;5;241m.\u001b[39mget(\u001b[38;5;124m\"\u001b[39m\u001b[38;5;124mvalue\u001b[39m\u001b[38;5;124m\"\u001b[39m, \u001b[38;5;28;01mNone\u001b[39;00m))\n\u001b[0;32m    442\u001b[0m     \u001b[38;5;28;01mreturn\u001b[39;00m response\n",
      "File \u001b[1;32m~\\anaconda3\\lib\\site-packages\\selenium\\webdriver\\remote\\errorhandler.py:245\u001b[0m, in \u001b[0;36mErrorHandler.check_response\u001b[1;34m(self, response)\u001b[0m\n\u001b[0;32m    243\u001b[0m         alert_text \u001b[38;5;241m=\u001b[39m value[\u001b[38;5;124m\"\u001b[39m\u001b[38;5;124malert\u001b[39m\u001b[38;5;124m\"\u001b[39m]\u001b[38;5;241m.\u001b[39mget(\u001b[38;5;124m\"\u001b[39m\u001b[38;5;124mtext\u001b[39m\u001b[38;5;124m\"\u001b[39m)\n\u001b[0;32m    244\u001b[0m     \u001b[38;5;28;01mraise\u001b[39;00m exception_class(message, screen, stacktrace, alert_text)  \u001b[38;5;66;03m# type: ignore[call-arg]  # mypy is not smart enough here\u001b[39;00m\n\u001b[1;32m--> 245\u001b[0m \u001b[38;5;28;01mraise\u001b[39;00m exception_class(message, screen, stacktrace)\n",
      "\u001b[1;31mNoSuchWindowException\u001b[0m: Message: no such window: target window already closed\nfrom unknown error: web view not found\n  (Session info: chrome=117.0.5938.132)\nStacktrace:\n\tGetHandleVerifier [0x00007FF6BF8252A2+57122]\n\t(No symbol) [0x00007FF6BF79EA92]\n\t(No symbol) [0x00007FF6BF66E3AB]\n\t(No symbol) [0x00007FF6BF64E1B9]\n\t(No symbol) [0x00007FF6BF6CB417]\n\t(No symbol) [0x00007FF6BF6DE24F]\n\t(No symbol) [0x00007FF6BF6C6DB3]\n\t(No symbol) [0x00007FF6BF69D2B1]\n\t(No symbol) [0x00007FF6BF69E494]\n\tGetHandleVerifier [0x00007FF6BFACEF82+2849794]\n\tGetHandleVerifier [0x00007FF6BFB21D24+3189156]\n\tGetHandleVerifier [0x00007FF6BFB1ACAF+3160367]\n\tGetHandleVerifier [0x00007FF6BF8B6D06+653702]\n\t(No symbol) [0x00007FF6BF7AA208]\n\t(No symbol) [0x00007FF6BF7A62C4]\n\t(No symbol) [0x00007FF6BF7A63F6]\n\t(No symbol) [0x00007FF6BF7967A3]\n\tBaseThreadInitThunk [0x00007FFC349A257D+29]\n\tRtlUserThreadStart [0x00007FFC3608AA68+40]\n"
     ]
    }
   ],
   "source": [
    "links = []\n",
    "count = 1\n",
    "\n",
    "browser = open_browser()\n",
    "\n",
    "for company_name, name in zip(cleaned_list, representative_name):\n",
    "    print(company_name,\" : \", name)\n",
    "    \n",
    "    search_input = find_id('query', browser)\n",
    "\n",
    "    pyperclip.copy(company_name)\n",
    "    search_input.send_keys(Keys.CONTROL, \"v\")\n",
    "    time.sleep(1)\n",
    "    search_input.send_keys(\"\\n\")\n",
    "    time.sleep(1)\n",
    "    \n",
    "    soup = BS(browser.page_source, \"html.parser\")\n",
    "    name_soup = soup.find_all(class_=\"col-lg-8 post-list\")\n",
    "\n",
    "    desired_name = name\n",
    "\n",
    "    for title in soup.find_all('h5', text=f'대표자명 : {desired_name}'):\n",
    "        link = title.find_previous('a')\n",
    "        if link:\n",
    "            print('대표자명 있음 : ', company_name, \" : \", count)\n",
    "            \n",
    "            href = link.get('href')\n",
    "            links.append(href)\n",
    "            count += 1\n"
   ]
  },
  {
   "cell_type": "code",
   "execution_count": 157,
   "id": "0d98c16c",
   "metadata": {},
   "outputs": [
    {
     "data": {
      "text/plain": [
       "256"
      ]
     },
     "execution_count": 157,
     "metadata": {},
     "output_type": "execute_result"
    }
   ],
   "source": [
    "len(links)"
   ]
  },
  {
   "cell_type": "code",
   "execution_count": 161,
   "id": "f141d46f",
   "metadata": {},
   "outputs": [],
   "source": [
    "full_links = ['https://bizno.net' + link for link in links]"
   ]
  },
  {
   "cell_type": "code",
   "execution_count": 163,
   "id": "dce13ebd",
   "metadata": {},
   "outputs": [],
   "source": [
    "browser.get(full_links[0])"
   ]
  },
  {
   "cell_type": "code",
   "execution_count": 219,
   "id": "c1220ec2",
   "metadata": {},
   "outputs": [
    {
     "name": "stdout",
     "output_type": "stream",
     "text": [
      "['(주)신라이앤씨', '주식회사 티링크앤주인닷컴', '주식회사동심하이테크', '주식회사 썬테크노이십일', '팀930', '(주)씨티정보', '주식회사 아이베스트', '주식회사 미디어플랜', '미디어플랜', '남성기업(주)', '(주)비오더블테크놀로지', '주식회사 베가네트웍스', '주식회사 넷팜', '주식회사 진네트웍스', '자이온솔루션 주식회사', '주식회사 알에스아이티', '(주)이천정보통신기술', '(주)씨에스플러스', '바이오스펙테이터', '영앤콘텐츠', '주식회사 티앤지테크(TnG Tech)', '주식회사 아르정보기술', '주식회사 다윈테크', '주식회사 브이아이텍', '주식회사 서브', '(주)스마트조이', '주식회사 나래젠', '아이티아이에스 주식회사', '대신아이씨티주식회사', '대신아이씨티주식회사', '주식회사 에이티앤아이', '주식회사 케이시드', '주식회사 다원솔루텍', '(주)아라테크시스템', '진성계전', '주식회사 오토봇', '주식회사 아이엠솔루션즈', '현정보시스템', '주식회사이지스로직', '（주）유에스에스코리아', '주식회사 유니온시스템즈', '주식회사 컴파스코리아', '(주)시그널시스템', '주식회사보담시스템', '일신OA시스템', '프컴', '(주)선진정보통신', '엔터시스템', '주식회사 와이앤정보', '(주)삼보정보통신', '주식회사 에프에이데이타', '주식회사 리더스재활로봇', '(주)지디에스컨설팅그룹', '주식회사 킴스', '지쉐어 주식회사(GShare Co., LTD.)', '주식회사카바조', '나이스정보통신(주)', '파킹클라우드 주식회사', '파킹클라우드 주식회사 대전지사', '파킹클라우드 주식회사 수원지사', '파킹클라우드 주식회사 대구지사', '파킹클라우드 주식회사 제주지사', '파킹클라우드 주식회사 부산지사', '파킹클라우드 주식회사 광주지사', '파킹클라우드 주식회사 창원지사', '주식회사클비시스템', '(주)이랜서', '(주)바로네트웍스인천지점', '바로네트웍스 강릉지점', '바로네트웍스(평택지점)', '(주)바로네트웍스 정선지점', '(주)바로네트웍스 평창지점', '(주)바로네트웍스 서초지점', '(주)바로네트웍스 서초지젤지점', '주식회사 제이시큐어플랫폼', '주식회사 디티랩', '주식회사 투비시스템', '주식회사 유모스트', '현진이앤에스 주식회사 (HYUNJIN ENS Co.,Ltd.)', '주식회사 아이에스에스', '주식회사 엠투에스 (M2S)', '원스토어 주식회사', '비씨즈(주)', '알에이치테크', '크리에이티브마루', '(주)피엘상사', '코아넷(주)', '주식회사\\u3000브이스테이션', '주식회사 시큐리티허브', '(주)리스미디어', '(주)시너지솔루션', '(주) 빅블루', '주식회사 미즈코믹스', '(주)파크앤소프트', '(주)메이저피스', '캐드아이티코리아 주식회사', '주식회사 디에스이트레이드', '（주）피알앤디컴퍼니', '유진엠(주)', '(주)융시스템', '아이티컨버젼스 주식회사', '아이티컨버젼스 (주)', '미디어 커넥터', '(주)이룸커뮤니티', '지원소프트', '주식회사 시선테크인', '스마일 코리아', '(주)하나로네트웍스', '주식회사비티엠지', '주식회사에스아이씨', '주식회사 넥스트아이디', '주식회사박차컴퍼니', '주식회사 지니가치', '(주)지니가치', '주식회사브로넥스', '(주)앰에이치솔루션', '필라멘트', '도넛소프트 주식회사', '주식회사 굿퍼스트정보기술', '시사경북', '경북미디어', '휠러스주식회사', '(주)바이탈컴', '바이탈컴', '이지앤웰니스 주식회사', '주식회사 유엑스스토리', '주식회사 오픈서베이', '샘랩 주식회사', '주식회사 피플앤잡', '주식회사 홀릭스팩토리', '주식회사에이블리코퍼레이션', '(주)더원인터내셔널', '(주)웨보노믹스', '(주)웨보노믹스 서울지점', '주식회사 씨엔티브이플러스', '(주)승승해운항공', '비트인테크', '주식회사 가이드컴', '주식회사 아비스', '주식회사 더블씨컴퍼니', '이와이컨설팅 유한책임회사', '주식회사 제이앤디엔씨', '앤피오엔터테인먼트', '주식회사 디오컴퍼니', '디오컴퍼니(D.O COMPANY)', '주식회사 메이크잇', '리브', '리브', '위드인플러스', '에이에이치코리아', '(주)에이치와이스타일', '(주)트리넥트', '시그', '주식회사 시그', '주식회사 마코랜드', '하이맥스 코퍼레이션', '주식회사 슈퍼블릿커뮤니케이션즈', '주식회사 스튜디오포케이', '주식회사 플라나', '주식회사 아르고스다인', '아이빅아트센터', '예스스터디 주식회사', '주식회사 유니인베스트먼트', '데일리펫', '주식회사 크레팻', '주식회사쇼미컴퍼니', '디자인프레스 주식회사', '(주)에이앤아이', '세림테크(SELIM TECH)', '헤븐컴퍼니', '사단법인 대한블록체인조정협회', '미디어디에이치', '주식회사맥스금융대부', '한국복권리서치', '택틱(Tagtik)', '주식회사 생황과사람들', '주식회사 픽크롤', '업라이센스', '로컬앤라이프', '로컬앤라이프', '스피드텔레콤', '눈고래', '이엔씨엔터테인먼트', '씨앤비', '티비드', '와이디컴퍼니 주식회사', '네오비즈 정보통신', '유성미디어 주식회사', '주식회사 트루챗', '칼라티비 주식회사', '주식회사 샵플', '(주)샵플 에코스튜디오', '샵플', '주식회사플랙스', '주식회사 다온에셋', '주식회사그레잇타임', '데이타매니져', '주식회사미시안네트웍스', '양양계곡 그날이오면 펜션 & 캠핑장 통신판매업', '소풍지사', '가가정보통신', '언니별기획', '언니별기획', '주식회사 가드닛', '주식회사세이프타임즈', '주식회사브링컴퍼니', '사이버프리', '(주)홈사시', '주식회사 아임웹( Imweb Corp.)', '주식회사건강마당', '주식회사 비즈닉스', '주식회사 뱅코', '주식회사 후이즈', '주식회사 후이즈글로벌네트워크', '후이즈', '주식회사 탑코미디어', '주식회사 비즈투컴퍼니', '주식회사 위딧', '주식회사 팬텀커머스', '이룸에스앤아이', '주식회사 아폴로엠', '(주)아시아피트니스프로모터', '단비코리아', '주식회사 단비코리아', '주식회사 라라인터내셔날', '세영정보통신(주)', '주식회사큐엠아이티', '큐엠아이티', '퍼스트뉴스코리아', '퍼스트뉴스코리아(First News Korea)', '주식회사 화이트큐브', '마인드카페 상담센터(아토머스(주)', '주식회사 크리에이티브스테이츠', '임뷰미디어', '비에스컴퍼니', '주식회사 모람플랫폼', '주식회사 모람플랫폼', '주식매니아', '주식회사 예스닉', '허재영Race', '더비즈통신', '지성정보통신', '쓰리제이', '다올하우징랜드 주식회사', '리리프로젝트', '오프닝뮤즈', '두두무역몰', '두두무역', '조민선외 1명', '조민선개인과외', '조민선', '(주)진앤현웰빙', '브랜드스토리', '인텍시스템', 'MJ정보기술', '아이즈컴퍼니']\n",
      "['계속사업자', '계속사업자', '계속사업자', '계속사업자', '계속사업자', '계속사업자', '계속사업자', '계속사업자', '폐업자', '계속사업자', '계속사업자', '계속사업자', '계속사업자', '계속사업자', '계속사업자', '계속사업자', '계속사업자', '계속사업자', '계속사업자', '계속사업자', '계속사업자', '계속사업자', '계속사업자', '계속사업자', '계속사업자', '계속사업자', '계속사업자', '계속사업자', '폐업자', '계속사업자', '계속사업자', '계속사업자', '계속사업자', '폐업자', '계속사업자', '계속사업자', '계속사업자', '계속사업자', '계속사업자', '계속사업자', '계속사업자', '계속사업자', '계속사업자', '계속사업자', '계속사업자', '계속사업자', '계속사업자', '계속사업자', '계속사업자', '계속사업자', '계속사업자', '계속사업자', '계속사업자', '계속사업자', '계속사업자', '계속사업자', '계속사업자', '계속사업자', '계속사업자', '폐업자', '계속사업자', '계속사업자', '계속사업자', '계속사업자', '계속사업자', '계속사업자', '계속사업자', '폐업자', '폐업자', '폐업자', '계속사업자', '계속사업자', '계속사업자', '계속사업자', '계속사업자', '계속사업자', '계속사업자', '계속사업자', '계속사업자', '계속사업자', '계속사업자', '계속사업자', '계속사업자', '계속사업자', '계속사업자', '계속사업자', '계속사업자', '계속사업자', '계속사업자', '계속사업자', '계속사업자', '계속사업자', '계속사업자', '계속사업자', '계속사업자', '계속사업자', '계속사업자', '계속사업자', '계속사업자', '계속사업자', '계속사업자', '계속사업자', '계속사업자', '계속사업자', '계속사업자', '계속사업자', '계속사업자', '계속사업자', '계속사업자', '계속사업자', '계속사업자', '계속사업자', '계속사업자', '계속사업자', '계속사업자', '계속사업자', '계속사업자', '계속사업자', '계속사업자', '계속사업자', '계속사업자', '계속사업자', '계속사업자', '폐업자', '계속사업자', '계속사업자', '계속사업자', '계속사업자', '계속사업자', '계속사업자', '계속사업자', '계속사업자', '계속사업자', '계속사업자', '계속사업자', '계속사업자', '계속사업자', '계속사업자', '계속사업자', '계속사업자', '계속사업자', '계속사업자', '계속사업자', '계속사업자', '폐업자', '계속사업자', '계속사업자', '계속사업자', '계속사업자', '계속사업자', '계속사업자', '계속사업자', '계속사업자', '계속사업자', '계속사업자', '계속사업자', '계속사업자', '계속사업자', '계속사업자', '계속사업자', '계속사업자', '계속사업자', '폐업자', '계속사업자', '계속사업자', '계속사업자', '계속사업자', '계속사업자', '계속사업자', '계속사업자', '계속사업자', '폐업자', '계속사업자', '폐업자', '폐업자', '계속사업자', '계속사업자', '계속사업자', '계속사업자', '폐업자', '계속사업자', '폐업자', '계속사업자', '계속사업자', '계속사업자', '계속사업자', '계속사업자', '계속사업자', '계속사업자', '계속사업자', '계속사업자', '계속사업자', '폐업자', '계속사업자', '계속사업자', '계속사업자', '계속사업자', '계속사업자', '폐업자', '계속사업자', '계속사업자', '계속사업자', '폐업자', '계속사업자', '계속사업자', '계속사업자', '계속사업자', '계속사업자', '계속사업자', '계속사업자', '폐업자', '계속사업자', '계속사업자', '계속사업자', '폐업자', '계속사업자', '계속사업자', '계속사업자', '계속사업자', '계속사업자', '계속사업자', '계속사업자', '계속사업자', '계속사업자', '계속사업자', '계속사업자', '계속사업자', '폐업자', '계속사업자', '계속사업자', '계속사업자', '계속사업자', '폐업자', '계속사업자', '계속사업자', '계속사업자', '계속사업자', '계속사업자', '계속사업자', '계속사업자', '계속사업자', '계속사업자', '폐업자', '계속사업자', '계속사업자', '계속사업자', '계속사업자', '계속사업자', '계속사업자', '계속사업자', '계속사업자', '계속사업자', '계속사업자', '계속사업자', '계속사업자', '계속사업자']\n",
      "['김용호', '정도환', '박종만', '유연호', '이상윤', '이상원', '이충하', '권순성', '권순성', '양세훈', '심종욱', '안종윤', '최영균', '이호진', '손현석', '공용대', '정현석', '장준영', '이기형', '이효영', '성진호', '이인철', '박대원', '이동욱', '남규태', '유지웅', '박경환', '장지훈', '이소영', '이소영', '허준석', '홍기영', '이병양', '이종호', '곽근용', '이상근', '문점생', '김영주', '박경남', '김용원', '홍민석', '이정우', '이신호', '박인철', '전정일', '조선이', '김재천', '이광희', '원예나', '임순주', '이종훈', '김영기', '김은석', 'MASAKI TAKAHATA(마사키 타카하타)', '박재영', '유태량', '김용국', '하태년', '하태년', '하태년', '하태년', '하태년', '하태년', '하태년', '하태년', '이재호', '박우진', '박기범', '박기범', '박기범', '박기범', '박기범', '박기범', '박기범', '정세웅', '조석훈', '최기성', '신깃발', '박장현', '류동원', '이태휘', '이재환', '유영창', '박경록', '이은지', '김유진', '김광호', '이현정', '이경빈', '이명섭', '지현우', '홍기선', '신지환', '안상면', '허진', '백영렬', '박수열', '박진우', '이수혁', '박진기', '이옥정', '이옥정', '심영', '이세형', '장지원', '현진희', '곽영민', '주형순', '장재영', '신범주', '주숭호', '김주은', '이우익', '이우익', '오영탁', '박형서', '장경수', '이광규', '장철호', '안은숙', '이기만', '이성철', '박순옥', '박순옥', '강민재', '정윤재', '황희영', '심세용', '이정환', '박태영', '강석훈', '최현진', '김용군', '김용군', '박윤규', '김경선', '윤중구', '김진환', '홍진원', '주지윤', '김정욱', '전진용', '표종록', '김두환', '김두환', '박수인', '이명범', '이명범', '윤성희', '김정수', '장현영', '유원석', '우춘식', '우춘식', '마준영', '박기형', '김선명', '강창석', '김재형', '정승호', '박성호', '나용준', '이성수', '김기욱', '이종석', '지정훈', '이민형', '정명한', '임상현', '천지훈', '박기훈', '김도하', '기세성', '정도훈', '최성일', '홍기숙', '한경화', '전평혁', '홍인기', '홍인기', '윤민정', '김재호', '김영근', '최정식', '황현철', '김윤두', '한충희', '김경록', '김형용', '김종호', '강은주', '강은주', '강은주', '윤순일', '이광섭', '이신후', '박정식', '박성용', '김진구', '김정연', '이은정', '지미정', '지미정', '김승용', '김창영', '신미진', '김문환', '최준규', '이수모', '안인태', '장세진', '강대구', '이신종', '이신종', '이신종', '유정석', '손의동', '권귀태', '도영국', '김인회', '신재원', '임정섭', '공경남', '공경남', '김형섭', '이세영', '이상기', '이상기', '송상미', '송상미', '최혁준', '김규태', '김인기', '황원규', '배수린', '김종언', '김종언', '신동수', '이신종', '허재영', '박균하', '정철훈', '박대혁', '노기숙', '이세민', '한경진', '서일두', '서일두', '조민선', '조민선', '조민선', '김병익', '조성윤', '권락근', '정진영', '박연진']\n",
      "['504-81-77295', '120-87-04960', '116-81-49632', '214-86-37959', '107-88-07277', '514-81-48026', '609-86-11195', '264-81-32478', '214-12-94212', '105-81-59561', '213-86-21681', '107-87-44649', '123-86-39796', '129-86-27304', '114-86-91139', '119-86-20153', '606-86-45380', '113-86-18417', '781-86-00476', '643-81-00413', '314-81-44997', '282-81-00028', '680-86-00396', '597-81-00366', '285-86-00416', '340-86-00085', '109-86-43616', '505-86-00284', '437-85-00820', '411-81-73056', '147-86-00389', '220-88-70127', '307-81-49897', '776-86-00867', '620-11-66291', '122-86-26186', '519-86-00380', '616-30-51937', '129-86-35537', '211-88-13966', '120-87-96801', '441-87-00712', '805-81-00874', '136-87-00616', '605-14-51994', '752-60-00202', '466-88-00116', '125-21-53820', '571-88-00868', '511-81-22895', '246-81-00769', '273-86-00714', '846-88-00011', '214-81-75415', '612-87-01064', '421-86-00201', '220-81-15770', '101-86-51015', '216-85-05010', '260-85-00822', '308-85-14953', '620-85-22616', '822-85-00329', '332-85-00414', '350-85-00426', '211-88-10746', '209-81-25311', '125-85-67495', '787-85-01457', '789-85-00852', '828-85-01442', '112-85-42843', '596-85-02205', '413-85-04024', '692-81-01170', '169-86-01113', '122-86-39570', '217-81-49594', '134-86-87911', '220-81-66911', '440-87-00742', '856-86-00329', '704-88-01206', '720-72-00232', '770-24-00288', '204-86-46072', '220-88-05285', '110-81-74716', '104-86-57148', '214-87-87645', '650-88-01194', '249-87-00552', '850-88-01299', '565-81-02125', '108-81-79644', '846-86-01530', '214-86-62157', '220-88-95088', '107-86-41946', '214-81-32740', '409-86-50598', '786-85-01584', '777-17-00563', '829-88-00511', '383-03-00662', '127-86-51128', '169-24-00950', '140-81-79328', '852-87-01546', '628-88-01163', '214-87-59547', '697-87-00197', '482-87-00294', '125-85-67078', '785-87-00363', '688-88-01001', '399-24-00866', '756-88-01361', '197-81-01414', '452-87-01588', '678-86-01242', '204-86-08379', '790-87-01286', '786-54-00261', '423-86-00129', '773-87-00583', '106-86-77081', '531-87-00830', '314-86-64964', '119-86-59769', '164-87-00149', '406-86-00070', '508-81-08034', '826-85-00563', '120-81-73179', '204-81-96484', '214-86-33540', '106-87-12028', '610-86-34131', '716-87-00936', '601-88-00932', '128-87-20886', '429-81-01475', '388-86-00904', '130-39-05102', '639-86-01058', '580-81-00785', '142-09-24269', '769-81-00127', '344-87-00968', '262-81-00795', '201-87-01637', '202-14-04123', '380-88-00433', '269-81-01946', '119-22-84820', '694-88-01030', '261-86-02266', '853-81-02323', '466-86-00994', '817-73-00421', '105-86-91964', '107-88-30915', '220-86-50170', '160-81-00825', '738-87-00881', '226-86-00358', '631-81-01044', '409-03-80177', '756-86-01111', '679-82-00253', '645-81-01228', '852-86-01476', '787-81-01842', '603-27-84903', '347-88-01186', '391-87-01565', '268-16-01038', '625-81-01879', '509-03-63032', '603-08-34358', '603-88-01179', '706-57-00382', '702-47-00270', '128-37-75106', '271-88-00686', '482-58-00275', '129-86-93876', '108-86-17094', '509-81-06169', '382-87-00844', '755-85-02288', '877-12-00586', '781-88-01407', '315-86-01507', '499-87-01331', '228-21-11094', '273-86-01523', '836-04-02045', '431-27-01234', '612-11-02641', '871-54-00569', '590-21-00906', '876-86-01512', '630-87-02038', '563-86-01294', '120-86-00064', '119-88-02047', '105-87-83592', '571-86-00767', '895-81-01293', '280-88-00977', '896-88-01674', '110-81-41272', '214-86-67415', '220-87-42930', '841-88-01510', '793-88-01017', '455-88-02088', '761-81-01253', '214-88-79180', '769-88-01353', '290-85-00411', '781-81-00210', '853-88-01944', '513-81-14498', '528-86-00986', '222-41-00433', '685-93-00759', '224-82-72071', '816-81-01359', '374-81-00313', '491-81-01499', '132-28-96976', '574-59-00509', '197-81-01938', '368-85-01799', '847-06-00435', '120-86-25589', '204-37-92729', '250-11-00294', '349-87-00677', '138-12-83139', '762-81-00223', '790-50-00239', '123-48-00116', '392-10-02060', '666-05-01430', '130-30-52882', '570-91-01132', '101-08-49355', '479-86-01868', '407-33-00607', '621-13-21758', '308-17-15439', '324-66-00353']\n",
      "['170111-0357211', '110111-3516296', '110111-1090953', '-', '110111-5280683', '-', '-', '-', '-', '-', '110111-1253254', '110111-4481076', '-', '131111-0218882', '110111-4699760', '-', '-', '110111-3811141', '110111-6025004', '110111-6152055', '160111-0125090', '110111-5645788', '200111-0455927', '110111-6055720', '110111-6043121', '110111-5739929', '110111-5234771', '-', '-', '201111-0036552', '170111-0598188', '110111-5288661', '110111-6302238', '-', '-', '120111-0622630', '195511-0192751', '-', '131111-0235563', '110111-3912238', '110111-5111226', '-', '110111-6380903', '110111-6248177', '-', '-', '120111-0770637', '-', '-', '-', '176011-0116233', '170111-0648842', '110111-5645613', '110111-1063455', '110111-6733483', '110111-5866384', '110111-0574453', '110111-4221258', '-', '-', '-', '-', '-', '-', '-', '110111-3862483', '110111-1963639', '-', '-', '110111-5232189', '-', '-', '-', '-', '110111-6963444', '180111-1168912', '120111-0707698', '-', '131411-0274888', '110111-1768774', '131111-0480027', '131111-0439131', '131111-0534428', '-', '-', '110111-5256791', '110111-4438176', '110111-3453787', '-', '-', '-', '110111-6053435', '110111-7275377', '110111-7904017', '110111-3679094', '110111-7132303', '110111-2007345', '110111-5599050', '110111-2894073', '110111-0807474', '204311-0028982', '-', '-', '-', '-', '-', '-', '135511-0257028', '134811-0523333', '134111-0516811', '-', '131111-0426229', '110111-5964716', '-', '135811-0290816', '-', '-', '150111-0266060', '205911-0032899', '-', '-', '110111-3886756', '174811-0102692', '-', '110111-5713395', '110111-6250205', '110111-4527911', '135811-0332783', '110111-6036788', '110111-4925115', '110111-5800986', '180111-0967323', '171111-0006495', '171111-0006495', '110111-1409732', '-', '-', '110111-5626176', '110111-6248185', '110111-6620052', '110115-0007745', '-', '-', '-', '-', '110111-6739910', '134511-0341038', '-', '134111-0419932', '-', '110111-6548189', '210111-0149990', '-', '131111-0448851', '-', '-', '110111-6860179', '-', '135811-0423590', '110111-6662301', '-', '110111-3457888', '110111-5527704', '-', '-', '110111-6490174', '-', '110111-6661949', '-', '110111-6998441', '-', '110111-7099553', '-', '110111-7464623', '-', '110111-6777176', '110111-7212197', '-', '110111-7500584', '-', '-', '180111-1174878', '-', '-', '-', '-', '-', '-', '285011-0411029', '285011-0423066', '131111-0518216', '-', '-', '135811-0378646', '164811-0125282', '210111-0140013', '-', '-', '-', '-', '-', '-', '-', '134511-0426591', '-', '-', '110111-1881477', '110111-7724051', '110111-5071967', '140111-0070984', '180111-1227346', '210111-0128217', '110111-7640835', '110111-1706378', '-', '110111-3615121', '-', '134111-0474027', '170111-0797730', '110111-6881175', '110111-4620533', '120111-1021170', '-', '110111-5735349', '110111-7710050', '176011-0017746', '110111-6927482', '-', '-', '-', '110111-6858413', '110111-5848952', '110111-7144902', '-', '-', '200111-0608245', '-', '-', '110111-2223587', '-', '-', '134111-0462717', '-', '-', '-', '-', '-', '-', '-', '-', '-', '134311-0043513', '-', '-', '-', '-']\n"
     ]
    }
   ],
   "source": [
    "find_company_names = []\n",
    "find_business_status = []\n",
    "find_representative_names = []\n",
    "find_business_registration_numbers = []\n",
    "find_corporate_registration_numbers = []\n",
    "\n",
    "for href in full_links:\n",
    "    browser.get(href)\n",
    "    time.sleep(1)\n",
    "\n",
    "    soup = BS(browser.page_source, \"html.parser\")\n",
    "    result = soup.find(class_=\"table_guide01\")\n",
    "\n",
    "    # Find Company Name\n",
    "    page_company_name = soup.find(\"title\").text\n",
    "    if page_company_name:\n",
    "        find_company_names.append(page_company_name)\n",
    "    else:\n",
    "        find_company_names.append(\"-\")\n",
    "\n",
    "    # Find Business Current Status\n",
    "    th_business_status = result.find(\"th\", text=\"사업자 현재 상태\")\n",
    "    if th_business_status:\n",
    "        span_business_status = th_business_status.find_next_sibling(\"td\")\n",
    "        business_status = span_business_status.find(\"span\").text.strip()\n",
    "        if business_status:\n",
    "            find_business_status.append(business_status)\n",
    "        else:\n",
    "            find_business_status.append(\"-\")\n",
    "\n",
    "    # Find Representative Name\n",
    "    th_representative_name = result.find(\"th\", text='대표자명')\n",
    "    if th_representative_name:\n",
    "        representative_name = th_representative_name.find_next_sibling(\"td\").text.strip()\n",
    "        if representative_name:\n",
    "            find_representative_names.append(representative_name)\n",
    "        else:\n",
    "            find_representative_names.append(\"-\")\n",
    "\n",
    "    # Find Business Registration Number\n",
    "    th_business_registration_number = result.find(\"th\", text=\"사업자등록번호\")\n",
    "    if th_business_registration_number:\n",
    "        business_registration_number = th_business_registration_number.find_next_sibling(\"td\").text.strip()\n",
    "        if business_registration_number:\n",
    "            find_business_registration_numbers.append(business_registration_number)\n",
    "        else:\n",
    "            find_business_registration_numbers.append(\"-\")\n",
    "\n",
    "\n",
    "    # Find Corporate Registration Number\n",
    "    th_corporate_registration_number = result.find(\"th\", text=\"법인등록번호\")\n",
    "    if th_corporate_registration_number:\n",
    "        corporate_registration_number = th_corporate_registration_number.find_next_sibling(\"td\").text.strip()\n",
    "        if corporate_registration_number:\n",
    "            find_corporate_registration_numbers.append(corporate_registration_number)\n",
    "        else:\n",
    "            find_corporate_registration_numbers.append(\"-\")\n",
    "\n",
    "\n",
    "print(find_company_names)\n",
    "print(find_business_status)\n",
    "print(find_representative_names)\n",
    "print(find_business_registration_numbers)\n",
    "print(find_corporate_registration_numbers)"
   ]
  },
  {
   "cell_type": "code",
   "execution_count": 220,
   "id": "bc996e85",
   "metadata": {},
   "outputs": [
    {
     "name": "stdout",
     "output_type": "stream",
     "text": [
      "256\n",
      "256\n",
      "256\n",
      "256\n",
      "256\n"
     ]
    }
   ],
   "source": [
    "print(len(find_company_names))\n",
    "print(len(find_business_status))\n",
    "print(len(find_representative_names))\n",
    "print(len(find_business_registration_numbers))\n",
    "print(len(find_corporate_registration_numbers))"
   ]
  },
  {
   "cell_type": "code",
   "execution_count": 221,
   "id": "53910216",
   "metadata": {},
   "outputs": [],
   "source": [
    "data = {\n",
    "    'Company Name': find_company_names,\n",
    "    'Business Status': find_business_status,\n",
    "    'Representative Name': find_representative_names,\n",
    "    'Business Registration Number': find_business_registration_numbers,\n",
    "    'Corporate Registration Number': find_corporate_registration_numbers\n",
    "}\n",
    "\n",
    "df = pd.DataFrame(data)"
   ]
  },
  {
   "cell_type": "code",
   "execution_count": 224,
   "id": "c1f42617",
   "metadata": {},
   "outputs": [],
   "source": [
    "df.to_excel(\"test.xlsx\", index=False)"
   ]
  },
  {
   "cell_type": "code",
   "execution_count": 199,
   "id": "3b0febcf",
   "metadata": {},
   "outputs": [],
   "source": [
    "test = []\n",
    "\n",
    "th_corporate_registration_number = result.find(\"th\", text=\"결산월\")\n",
    "if th_corporate_registration_number:\n",
    "    corporate_registration_number = th_corporate_registration_number.find_next_sibling('td').text.strip()\n",
    "    \n",
    "if corporate_registration_number:\n",
    "    test.append(corporate_registration_number)\n",
    "else:\n",
    "    test.append('-')"
   ]
  },
  {
   "cell_type": "code",
   "execution_count": 111,
   "id": "d93555a3",
   "metadata": {},
   "outputs": [],
   "source": [
    "# Testing\n",
    "search_input = find_id('query', browser)\n",
    "pyperclip.copy(final_cleaned_company_name[103])\n",
    "search_input.send_keys(Keys.CONTROL, \"v\")\n",
    "time.sleep(1)\n",
    "search_input.send_keys(\"\\n\")\n",
    "time.sleep(3)"
   ]
  },
  {
   "cell_type": "code",
   "execution_count": 3,
   "id": "06e15332",
   "metadata": {},
   "outputs": [],
   "source": [
    "browser = open_browser()"
   ]
  }
 ],
 "metadata": {
  "kernelspec": {
   "display_name": "Python 3 (ipykernel)",
   "language": "python",
   "name": "python3"
  },
  "language_info": {
   "codemirror_mode": {
    "name": "ipython",
    "version": 3
   },
   "file_extension": ".py",
   "mimetype": "text/x-python",
   "name": "python",
   "nbconvert_exporter": "python",
   "pygments_lexer": "ipython3",
   "version": "3.10.9"
  }
 },
 "nbformat": 4,
 "nbformat_minor": 5
}
